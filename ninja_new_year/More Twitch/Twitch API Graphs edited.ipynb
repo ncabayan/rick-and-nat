{
 "cells": [
  {
   "cell_type": "code",
   "execution_count": 1,
   "metadata": {},
   "outputs": [],
   "source": [
    "#dependencies\n",
    "import pandas as pd\n",
    "import numpy as np\n",
    "import matplotlib.pyplot as plt"
   ]
  },
  {
   "cell_type": "code",
   "execution_count": 2,
   "metadata": {},
   "outputs": [
    {
     "data": {
      "text/html": [
       "<div>\n",
       "<style scoped>\n",
       "    .dataframe tbody tr th:only-of-type {\n",
       "        vertical-align: middle;\n",
       "    }\n",
       "\n",
       "    .dataframe tbody tr th {\n",
       "        vertical-align: top;\n",
       "    }\n",
       "\n",
       "    .dataframe thead th {\n",
       "        text-align: right;\n",
       "    }\n",
       "</style>\n",
       "<table border=\"1\" class=\"dataframe\">\n",
       "  <thead>\n",
       "    <tr style=\"text-align: right;\">\n",
       "      <th></th>\n",
       "      <th>Unnamed: 0</th>\n",
       "      <th>time</th>\n",
       "      <th>total_views</th>\n",
       "      <th>stream_viewers</th>\n",
       "    </tr>\n",
       "  </thead>\n",
       "  <tbody>\n",
       "    <tr>\n",
       "      <th>0</th>\n",
       "      <td>0</td>\n",
       "      <td>12:23 PM</td>\n",
       "      <td>393500921</td>\n",
       "      <td>NaN</td>\n",
       "    </tr>\n",
       "    <tr>\n",
       "      <th>1</th>\n",
       "      <td>0</td>\n",
       "      <td>1:23 PM</td>\n",
       "      <td>393509466</td>\n",
       "      <td>122861.0</td>\n",
       "    </tr>\n",
       "    <tr>\n",
       "      <th>2</th>\n",
       "      <td>0</td>\n",
       "      <td>2:23 PM</td>\n",
       "      <td>394005259</td>\n",
       "      <td>148687.0</td>\n",
       "    </tr>\n",
       "    <tr>\n",
       "      <th>3</th>\n",
       "      <td>0</td>\n",
       "      <td>3:23 PM</td>\n",
       "      <td>394294748</td>\n",
       "      <td>175163.0</td>\n",
       "    </tr>\n",
       "    <tr>\n",
       "      <th>4</th>\n",
       "      <td>0</td>\n",
       "      <td>4:23 PM</td>\n",
       "      <td>394710151</td>\n",
       "      <td>186953.0</td>\n",
       "    </tr>\n",
       "    <tr>\n",
       "      <th>5</th>\n",
       "      <td>0</td>\n",
       "      <td>5:23 PM</td>\n",
       "      <td>395019218</td>\n",
       "      <td>190954.0</td>\n",
       "    </tr>\n",
       "    <tr>\n",
       "      <th>6</th>\n",
       "      <td>0</td>\n",
       "      <td>6:23 PM</td>\n",
       "      <td>395455032</td>\n",
       "      <td>138772.0</td>\n",
       "    </tr>\n",
       "    <tr>\n",
       "      <th>7</th>\n",
       "      <td>0</td>\n",
       "      <td>7:23 PM</td>\n",
       "      <td>395705528</td>\n",
       "      <td>142017.0</td>\n",
       "    </tr>\n",
       "    <tr>\n",
       "      <th>8</th>\n",
       "      <td>0</td>\n",
       "      <td>8:23 PM</td>\n",
       "      <td>396024213</td>\n",
       "      <td>175028.0</td>\n",
       "    </tr>\n",
       "    <tr>\n",
       "      <th>9</th>\n",
       "      <td>0</td>\n",
       "      <td>9:23 PM</td>\n",
       "      <td>396357748</td>\n",
       "      <td>150747.0</td>\n",
       "    </tr>\n",
       "    <tr>\n",
       "      <th>10</th>\n",
       "      <td>0</td>\n",
       "      <td>10:23 PM</td>\n",
       "      <td>396615944</td>\n",
       "      <td>116931.0</td>\n",
       "    </tr>\n",
       "    <tr>\n",
       "      <th>11</th>\n",
       "      <td>0</td>\n",
       "      <td>11:23 PM</td>\n",
       "      <td>396902582</td>\n",
       "      <td>92230.0</td>\n",
       "    </tr>\n",
       "    <tr>\n",
       "      <th>12</th>\n",
       "      <td>0</td>\n",
       "      <td>12:23 AM</td>\n",
       "      <td>397052498</td>\n",
       "      <td>89641.0</td>\n",
       "    </tr>\n",
       "    <tr>\n",
       "      <th>13</th>\n",
       "      <td>0</td>\n",
       "      <td>1:23 AM</td>\n",
       "      <td>397169436</td>\n",
       "      <td>NaN</td>\n",
       "    </tr>\n",
       "  </tbody>\n",
       "</table>\n",
       "</div>"
      ],
      "text/plain": [
       "    Unnamed: 0      time  total_views  stream_viewers\n",
       "0            0  12:23 PM    393500921             NaN\n",
       "1            0   1:23 PM    393509466        122861.0\n",
       "2            0   2:23 PM    394005259        148687.0\n",
       "3            0   3:23 PM    394294748        175163.0\n",
       "4            0   4:23 PM    394710151        186953.0\n",
       "5            0   5:23 PM    395019218        190954.0\n",
       "6            0   6:23 PM    395455032        138772.0\n",
       "7            0   7:23 PM    395705528        142017.0\n",
       "8            0   8:23 PM    396024213        175028.0\n",
       "9            0   9:23 PM    396357748        150747.0\n",
       "10           0  10:23 PM    396615944        116931.0\n",
       "11           0  11:23 PM    396902582         92230.0\n",
       "12           0  12:23 AM    397052498         89641.0\n",
       "13           0   1:23 AM    397169436             NaN"
      ]
     },
     "execution_count": 2,
     "metadata": {},
     "output_type": "execute_result"
    }
   ],
   "source": [
    "#bring in the csv and show what the file looks like\n",
    "file_path = '/Users/ncabayan/Desktop/final_project_stuff/API_PULL/ninja_twitch_pull.csv'\n",
    "file_path_df = pd.read_csv(file_path, encoding = 'UTF-8')\n",
    "file_path_df"
   ]
  },
  {
   "cell_type": "code",
   "execution_count": 3,
   "metadata": {},
   "outputs": [
    {
     "data": {
      "text/html": [
       "<div>\n",
       "<style scoped>\n",
       "    .dataframe tbody tr th:only-of-type {\n",
       "        vertical-align: middle;\n",
       "    }\n",
       "\n",
       "    .dataframe tbody tr th {\n",
       "        vertical-align: top;\n",
       "    }\n",
       "\n",
       "    .dataframe thead th {\n",
       "        text-align: right;\n",
       "    }\n",
       "</style>\n",
       "<table border=\"1\" class=\"dataframe\">\n",
       "  <thead>\n",
       "    <tr style=\"text-align: right;\">\n",
       "      <th></th>\n",
       "      <th>time</th>\n",
       "      <th>total_views</th>\n",
       "      <th>stream_viewers</th>\n",
       "    </tr>\n",
       "  </thead>\n",
       "  <tbody>\n",
       "    <tr>\n",
       "      <th>0</th>\n",
       "      <td>12:23 PM</td>\n",
       "      <td>393500921</td>\n",
       "      <td>NaN</td>\n",
       "    </tr>\n",
       "    <tr>\n",
       "      <th>1</th>\n",
       "      <td>1:23 PM</td>\n",
       "      <td>393509466</td>\n",
       "      <td>122861.0</td>\n",
       "    </tr>\n",
       "    <tr>\n",
       "      <th>2</th>\n",
       "      <td>2:23 PM</td>\n",
       "      <td>394005259</td>\n",
       "      <td>148687.0</td>\n",
       "    </tr>\n",
       "    <tr>\n",
       "      <th>3</th>\n",
       "      <td>3:23 PM</td>\n",
       "      <td>394294748</td>\n",
       "      <td>175163.0</td>\n",
       "    </tr>\n",
       "    <tr>\n",
       "      <th>4</th>\n",
       "      <td>4:23 PM</td>\n",
       "      <td>394710151</td>\n",
       "      <td>186953.0</td>\n",
       "    </tr>\n",
       "    <tr>\n",
       "      <th>5</th>\n",
       "      <td>5:23 PM</td>\n",
       "      <td>395019218</td>\n",
       "      <td>190954.0</td>\n",
       "    </tr>\n",
       "    <tr>\n",
       "      <th>6</th>\n",
       "      <td>6:23 PM</td>\n",
       "      <td>395455032</td>\n",
       "      <td>138772.0</td>\n",
       "    </tr>\n",
       "    <tr>\n",
       "      <th>7</th>\n",
       "      <td>7:23 PM</td>\n",
       "      <td>395705528</td>\n",
       "      <td>142017.0</td>\n",
       "    </tr>\n",
       "    <tr>\n",
       "      <th>8</th>\n",
       "      <td>8:23 PM</td>\n",
       "      <td>396024213</td>\n",
       "      <td>175028.0</td>\n",
       "    </tr>\n",
       "    <tr>\n",
       "      <th>9</th>\n",
       "      <td>9:23 PM</td>\n",
       "      <td>396357748</td>\n",
       "      <td>150747.0</td>\n",
       "    </tr>\n",
       "    <tr>\n",
       "      <th>10</th>\n",
       "      <td>10:23 PM</td>\n",
       "      <td>396615944</td>\n",
       "      <td>116931.0</td>\n",
       "    </tr>\n",
       "    <tr>\n",
       "      <th>11</th>\n",
       "      <td>11:23 PM</td>\n",
       "      <td>396902582</td>\n",
       "      <td>92230.0</td>\n",
       "    </tr>\n",
       "    <tr>\n",
       "      <th>12</th>\n",
       "      <td>12:23 AM</td>\n",
       "      <td>397052498</td>\n",
       "      <td>89641.0</td>\n",
       "    </tr>\n",
       "    <tr>\n",
       "      <th>13</th>\n",
       "      <td>1:23 AM</td>\n",
       "      <td>397169436</td>\n",
       "      <td>NaN</td>\n",
       "    </tr>\n",
       "  </tbody>\n",
       "</table>\n",
       "</div>"
      ],
      "text/plain": [
       "        time  total_views  stream_viewers\n",
       "0   12:23 PM    393500921             NaN\n",
       "1    1:23 PM    393509466        122861.0\n",
       "2    2:23 PM    394005259        148687.0\n",
       "3    3:23 PM    394294748        175163.0\n",
       "4    4:23 PM    394710151        186953.0\n",
       "5    5:23 PM    395019218        190954.0\n",
       "6    6:23 PM    395455032        138772.0\n",
       "7    7:23 PM    395705528        142017.0\n",
       "8    8:23 PM    396024213        175028.0\n",
       "9    9:23 PM    396357748        150747.0\n",
       "10  10:23 PM    396615944        116931.0\n",
       "11  11:23 PM    396902582         92230.0\n",
       "12  12:23 AM    397052498         89641.0\n",
       "13   1:23 AM    397169436             NaN"
      ]
     },
     "execution_count": 3,
     "metadata": {},
     "output_type": "execute_result"
    }
   ],
   "source": [
    "#remove the unnamed column and only show the three important columsn\n",
    "ninja_scrape_edited_df = file_path_df[[\"time\",\"total_views\",\"stream_viewers\"]]\n",
    "ninja_scrape_edited_df"
   ]
  },
  {
   "cell_type": "code",
   "execution_count": 4,
   "metadata": {},
   "outputs": [
    {
     "data": {
      "text/html": [
       "<div>\n",
       "<style scoped>\n",
       "    .dataframe tbody tr th:only-of-type {\n",
       "        vertical-align: middle;\n",
       "    }\n",
       "\n",
       "    .dataframe tbody tr th {\n",
       "        vertical-align: top;\n",
       "    }\n",
       "\n",
       "    .dataframe thead th {\n",
       "        text-align: right;\n",
       "    }\n",
       "</style>\n",
       "<table border=\"1\" class=\"dataframe\">\n",
       "  <thead>\n",
       "    <tr style=\"text-align: right;\">\n",
       "      <th></th>\n",
       "      <th>Pacific Standard Time</th>\n",
       "      <th>Total Views</th>\n",
       "      <th>Stream Viewers</th>\n",
       "    </tr>\n",
       "  </thead>\n",
       "  <tbody>\n",
       "    <tr>\n",
       "      <th>0</th>\n",
       "      <td>12:23 PM</td>\n",
       "      <td>393500921</td>\n",
       "      <td>NaN</td>\n",
       "    </tr>\n",
       "    <tr>\n",
       "      <th>1</th>\n",
       "      <td>1:23 PM</td>\n",
       "      <td>393509466</td>\n",
       "      <td>122861.0</td>\n",
       "    </tr>\n",
       "    <tr>\n",
       "      <th>2</th>\n",
       "      <td>2:23 PM</td>\n",
       "      <td>394005259</td>\n",
       "      <td>148687.0</td>\n",
       "    </tr>\n",
       "    <tr>\n",
       "      <th>3</th>\n",
       "      <td>3:23 PM</td>\n",
       "      <td>394294748</td>\n",
       "      <td>175163.0</td>\n",
       "    </tr>\n",
       "    <tr>\n",
       "      <th>4</th>\n",
       "      <td>4:23 PM</td>\n",
       "      <td>394710151</td>\n",
       "      <td>186953.0</td>\n",
       "    </tr>\n",
       "    <tr>\n",
       "      <th>5</th>\n",
       "      <td>5:23 PM</td>\n",
       "      <td>395019218</td>\n",
       "      <td>190954.0</td>\n",
       "    </tr>\n",
       "    <tr>\n",
       "      <th>6</th>\n",
       "      <td>6:23 PM</td>\n",
       "      <td>395455032</td>\n",
       "      <td>138772.0</td>\n",
       "    </tr>\n",
       "    <tr>\n",
       "      <th>7</th>\n",
       "      <td>7:23 PM</td>\n",
       "      <td>395705528</td>\n",
       "      <td>142017.0</td>\n",
       "    </tr>\n",
       "    <tr>\n",
       "      <th>8</th>\n",
       "      <td>8:23 PM</td>\n",
       "      <td>396024213</td>\n",
       "      <td>175028.0</td>\n",
       "    </tr>\n",
       "    <tr>\n",
       "      <th>9</th>\n",
       "      <td>9:23 PM</td>\n",
       "      <td>396357748</td>\n",
       "      <td>150747.0</td>\n",
       "    </tr>\n",
       "    <tr>\n",
       "      <th>10</th>\n",
       "      <td>10:23 PM</td>\n",
       "      <td>396615944</td>\n",
       "      <td>116931.0</td>\n",
       "    </tr>\n",
       "    <tr>\n",
       "      <th>11</th>\n",
       "      <td>11:23 PM</td>\n",
       "      <td>396902582</td>\n",
       "      <td>92230.0</td>\n",
       "    </tr>\n",
       "    <tr>\n",
       "      <th>12</th>\n",
       "      <td>12:23 AM</td>\n",
       "      <td>397052498</td>\n",
       "      <td>89641.0</td>\n",
       "    </tr>\n",
       "    <tr>\n",
       "      <th>13</th>\n",
       "      <td>1:23 AM</td>\n",
       "      <td>397169436</td>\n",
       "      <td>NaN</td>\n",
       "    </tr>\n",
       "  </tbody>\n",
       "</table>\n",
       "</div>"
      ],
      "text/plain": [
       "   Pacific Standard Time  Total Views  Stream Viewers\n",
       "0               12:23 PM    393500921             NaN\n",
       "1                1:23 PM    393509466        122861.0\n",
       "2                2:23 PM    394005259        148687.0\n",
       "3                3:23 PM    394294748        175163.0\n",
       "4                4:23 PM    394710151        186953.0\n",
       "5                5:23 PM    395019218        190954.0\n",
       "6                6:23 PM    395455032        138772.0\n",
       "7                7:23 PM    395705528        142017.0\n",
       "8                8:23 PM    396024213        175028.0\n",
       "9                9:23 PM    396357748        150747.0\n",
       "10              10:23 PM    396615944        116931.0\n",
       "11              11:23 PM    396902582         92230.0\n",
       "12              12:23 AM    397052498         89641.0\n",
       "13               1:23 AM    397169436             NaN"
      ]
     },
     "execution_count": 4,
     "metadata": {},
     "output_type": "execute_result"
    }
   ],
   "source": [
    "#rename the columns\n",
    "ninja_scrape = ninja_scrape_edited_df.rename(columns = {\"time\":\"Pacific Standard Time\",\"total_views\":\"Total Views\", \"stream_viewers\":\"Stream Viewers\"})\n",
    "ninja_scrape"
   ]
  },
  {
   "cell_type": "code",
   "execution_count": 5,
   "metadata": {},
   "outputs": [
    {
     "data": {
      "text/html": [
       "<div>\n",
       "<style scoped>\n",
       "    .dataframe tbody tr th:only-of-type {\n",
       "        vertical-align: middle;\n",
       "    }\n",
       "\n",
       "    .dataframe tbody tr th {\n",
       "        vertical-align: top;\n",
       "    }\n",
       "\n",
       "    .dataframe thead th {\n",
       "        text-align: right;\n",
       "    }\n",
       "</style>\n",
       "<table border=\"1\" class=\"dataframe\">\n",
       "  <thead>\n",
       "    <tr style=\"text-align: right;\">\n",
       "      <th></th>\n",
       "      <th>Pacific Standard Time</th>\n",
       "      <th>Total Views</th>\n",
       "      <th>Stream Viewers</th>\n",
       "      <th>Minutes Watched</th>\n",
       "    </tr>\n",
       "  </thead>\n",
       "  <tbody>\n",
       "    <tr>\n",
       "      <th>0</th>\n",
       "      <td>12:23 PM</td>\n",
       "      <td>393500921</td>\n",
       "      <td>NaN</td>\n",
       "      <td>NaN</td>\n",
       "    </tr>\n",
       "    <tr>\n",
       "      <th>1</th>\n",
       "      <td>1:23 PM</td>\n",
       "      <td>393509466</td>\n",
       "      <td>122861.0</td>\n",
       "      <td>7371660.0</td>\n",
       "    </tr>\n",
       "    <tr>\n",
       "      <th>2</th>\n",
       "      <td>2:23 PM</td>\n",
       "      <td>394005259</td>\n",
       "      <td>148687.0</td>\n",
       "      <td>8921220.0</td>\n",
       "    </tr>\n",
       "    <tr>\n",
       "      <th>3</th>\n",
       "      <td>3:23 PM</td>\n",
       "      <td>394294748</td>\n",
       "      <td>175163.0</td>\n",
       "      <td>10509780.0</td>\n",
       "    </tr>\n",
       "    <tr>\n",
       "      <th>4</th>\n",
       "      <td>4:23 PM</td>\n",
       "      <td>394710151</td>\n",
       "      <td>186953.0</td>\n",
       "      <td>11217180.0</td>\n",
       "    </tr>\n",
       "    <tr>\n",
       "      <th>5</th>\n",
       "      <td>5:23 PM</td>\n",
       "      <td>395019218</td>\n",
       "      <td>190954.0</td>\n",
       "      <td>11457240.0</td>\n",
       "    </tr>\n",
       "    <tr>\n",
       "      <th>6</th>\n",
       "      <td>6:23 PM</td>\n",
       "      <td>395455032</td>\n",
       "      <td>138772.0</td>\n",
       "      <td>8326320.0</td>\n",
       "    </tr>\n",
       "    <tr>\n",
       "      <th>7</th>\n",
       "      <td>7:23 PM</td>\n",
       "      <td>395705528</td>\n",
       "      <td>142017.0</td>\n",
       "      <td>8521020.0</td>\n",
       "    </tr>\n",
       "    <tr>\n",
       "      <th>8</th>\n",
       "      <td>8:23 PM</td>\n",
       "      <td>396024213</td>\n",
       "      <td>175028.0</td>\n",
       "      <td>10501680.0</td>\n",
       "    </tr>\n",
       "    <tr>\n",
       "      <th>9</th>\n",
       "      <td>9:23 PM</td>\n",
       "      <td>396357748</td>\n",
       "      <td>150747.0</td>\n",
       "      <td>9044820.0</td>\n",
       "    </tr>\n",
       "    <tr>\n",
       "      <th>10</th>\n",
       "      <td>10:23 PM</td>\n",
       "      <td>396615944</td>\n",
       "      <td>116931.0</td>\n",
       "      <td>7015860.0</td>\n",
       "    </tr>\n",
       "    <tr>\n",
       "      <th>11</th>\n",
       "      <td>11:23 PM</td>\n",
       "      <td>396902582</td>\n",
       "      <td>92230.0</td>\n",
       "      <td>5533800.0</td>\n",
       "    </tr>\n",
       "    <tr>\n",
       "      <th>12</th>\n",
       "      <td>12:23 AM</td>\n",
       "      <td>397052498</td>\n",
       "      <td>89641.0</td>\n",
       "      <td>5378460.0</td>\n",
       "    </tr>\n",
       "    <tr>\n",
       "      <th>13</th>\n",
       "      <td>1:23 AM</td>\n",
       "      <td>397169436</td>\n",
       "      <td>NaN</td>\n",
       "      <td>NaN</td>\n",
       "    </tr>\n",
       "  </tbody>\n",
       "</table>\n",
       "</div>"
      ],
      "text/plain": [
       "   Pacific Standard Time  Total Views  Stream Viewers  Minutes Watched\n",
       "0               12:23 PM    393500921             NaN              NaN\n",
       "1                1:23 PM    393509466        122861.0        7371660.0\n",
       "2                2:23 PM    394005259        148687.0        8921220.0\n",
       "3                3:23 PM    394294748        175163.0       10509780.0\n",
       "4                4:23 PM    394710151        186953.0       11217180.0\n",
       "5                5:23 PM    395019218        190954.0       11457240.0\n",
       "6                6:23 PM    395455032        138772.0        8326320.0\n",
       "7                7:23 PM    395705528        142017.0        8521020.0\n",
       "8                8:23 PM    396024213        175028.0       10501680.0\n",
       "9                9:23 PM    396357748        150747.0        9044820.0\n",
       "10              10:23 PM    396615944        116931.0        7015860.0\n",
       "11              11:23 PM    396902582         92230.0        5533800.0\n",
       "12              12:23 AM    397052498         89641.0        5378460.0\n",
       "13               1:23 AM    397169436             NaN              NaN"
      ]
     },
     "execution_count": 5,
     "metadata": {},
     "output_type": "execute_result"
    }
   ],
   "source": [
    "minutes_watched = ninja_scrape[\"Stream Viewers\"]*60\n",
    "ninja_scrape[\"Minutes Watched\"] = minutes_watched\n",
    "ninja_scrape"
   ]
  },
  {
   "cell_type": "code",
   "execution_count": 6,
   "metadata": {},
   "outputs": [
    {
     "data": {
      "text/plain": [
       "103799040.0"
      ]
     },
     "execution_count": 6,
     "metadata": {},
     "output_type": "execute_result"
    }
   ],
   "source": [
    "total_minutes_watched = ninja_scrape['Minutes Watched'].sum()\n",
    "total_minutes_watched"
   ]
  },
  {
   "cell_type": "code",
   "execution_count": 7,
   "metadata": {},
   "outputs": [
    {
     "data": {
      "text/plain": [
       "190954.0"
      ]
     },
     "execution_count": 7,
     "metadata": {},
     "output_type": "execute_result"
    }
   ],
   "source": [
    "peak_viewers = ninja_scrape[\"Stream Viewers\"].max()\n",
    "peak_viewers"
   ]
  },
  {
   "cell_type": "code",
   "execution_count": 8,
   "metadata": {},
   "outputs": [
    {
     "data": {
      "text/plain": [
       "89641.0"
      ]
     },
     "execution_count": 8,
     "metadata": {},
     "output_type": "execute_result"
    }
   ],
   "source": [
    "least_viewers = ninja_scrape[\"Stream Viewers\"].min()\n",
    "least_viewers"
   ]
  },
  {
   "cell_type": "code",
   "execution_count": 9,
   "metadata": {},
   "outputs": [
    {
     "data": {
      "text/plain": [
       "144165.33333333334"
      ]
     },
     "execution_count": 9,
     "metadata": {},
     "output_type": "execute_result"
    }
   ],
   "source": [
    "average_viewers = ninja_scrape[\"Stream Viewers\"].mean()\n",
    "average_viewers"
   ]
  },
  {
   "cell_type": "code",
   "execution_count": 10,
   "metadata": {},
   "outputs": [
    {
     "data": {
      "text/html": [
       "<div>\n",
       "<style scoped>\n",
       "    .dataframe tbody tr th:only-of-type {\n",
       "        vertical-align: middle;\n",
       "    }\n",
       "\n",
       "    .dataframe tbody tr th {\n",
       "        vertical-align: top;\n",
       "    }\n",
       "\n",
       "    .dataframe thead th {\n",
       "        text-align: right;\n",
       "    }\n",
       "</style>\n",
       "<table border=\"1\" class=\"dataframe\">\n",
       "  <thead>\n",
       "    <tr style=\"text-align: right;\">\n",
       "      <th></th>\n",
       "      <th>Total Views</th>\n",
       "      <th>Stream Viewers</th>\n",
       "      <th>Minutes Watched</th>\n",
       "    </tr>\n",
       "  </thead>\n",
       "  <tbody>\n",
       "    <tr>\n",
       "      <th>count</th>\n",
       "      <td>1.400000e+01</td>\n",
       "      <td>12.000000</td>\n",
       "      <td>1.200000e+01</td>\n",
       "    </tr>\n",
       "    <tr>\n",
       "      <th>mean</th>\n",
       "      <td>3.954516e+08</td>\n",
       "      <td>144165.333333</td>\n",
       "      <td>8.649920e+06</td>\n",
       "    </tr>\n",
       "    <tr>\n",
       "      <th>std</th>\n",
       "      <td>1.298884e+06</td>\n",
       "      <td>34240.533889</td>\n",
       "      <td>2.054432e+06</td>\n",
       "    </tr>\n",
       "    <tr>\n",
       "      <th>min</th>\n",
       "      <td>3.935009e+08</td>\n",
       "      <td>89641.000000</td>\n",
       "      <td>5.378460e+06</td>\n",
       "    </tr>\n",
       "    <tr>\n",
       "      <th>25%</th>\n",
       "      <td>3.943986e+08</td>\n",
       "      <td>121378.500000</td>\n",
       "      <td>7.282710e+06</td>\n",
       "    </tr>\n",
       "    <tr>\n",
       "      <th>50%</th>\n",
       "      <td>3.955803e+08</td>\n",
       "      <td>145352.000000</td>\n",
       "      <td>8.721120e+06</td>\n",
       "    </tr>\n",
       "    <tr>\n",
       "      <th>75%</th>\n",
       "      <td>3.965514e+08</td>\n",
       "      <td>175061.750000</td>\n",
       "      <td>1.050370e+07</td>\n",
       "    </tr>\n",
       "    <tr>\n",
       "      <th>max</th>\n",
       "      <td>3.971694e+08</td>\n",
       "      <td>190954.000000</td>\n",
       "      <td>1.145724e+07</td>\n",
       "    </tr>\n",
       "  </tbody>\n",
       "</table>\n",
       "</div>"
      ],
      "text/plain": [
       "        Total Views  Stream Viewers  Minutes Watched\n",
       "count  1.400000e+01       12.000000     1.200000e+01\n",
       "mean   3.954516e+08   144165.333333     8.649920e+06\n",
       "std    1.298884e+06    34240.533889     2.054432e+06\n",
       "min    3.935009e+08    89641.000000     5.378460e+06\n",
       "25%    3.943986e+08   121378.500000     7.282710e+06\n",
       "50%    3.955803e+08   145352.000000     8.721120e+06\n",
       "75%    3.965514e+08   175061.750000     1.050370e+07\n",
       "max    3.971694e+08   190954.000000     1.145724e+07"
      ]
     },
     "execution_count": 10,
     "metadata": {},
     "output_type": "execute_result"
    }
   ],
   "source": [
    "ninja_scrape.describe()"
   ]
  },
  {
   "cell_type": "code",
   "execution_count": 11,
   "metadata": {},
   "outputs": [
    {
     "data": {
      "text/plain": [
       "Pacific Standard Time     object\n",
       "Total Views                int64\n",
       "Stream Viewers           float64\n",
       "Minutes Watched          float64\n",
       "dtype: object"
      ]
     },
     "execution_count": 11,
     "metadata": {},
     "output_type": "execute_result"
    }
   ],
   "source": [
    "ninja_scrape.dtypes"
   ]
  },
  {
   "cell_type": "code",
   "execution_count": 12,
   "metadata": {},
   "outputs": [],
   "source": [
    "#change total views from integero to float \n",
    "ninja_scrape['Total Views'] = ninja_scrape['Total Views'].astype(float)"
   ]
  },
  {
   "cell_type": "code",
   "execution_count": 13,
   "metadata": {},
   "outputs": [
    {
     "data": {
      "text/plain": [
       "Pacific Standard Time     object\n",
       "Total Views              float64\n",
       "Stream Viewers           float64\n",
       "Minutes Watched          float64\n",
       "dtype: object"
      ]
     },
     "execution_count": 13,
     "metadata": {},
     "output_type": "execute_result"
    }
   ],
   "source": [
    "ninja_scrape.dtypes"
   ]
  },
  {
   "cell_type": "code",
   "execution_count": 14,
   "metadata": {},
   "outputs": [
    {
     "data": {
      "text/plain": [
       "3668515.0"
      ]
     },
     "execution_count": 14,
     "metadata": {},
     "output_type": "execute_result"
    }
   ],
   "source": [
    "increase_in_views = ninja_scrape['Total Views'][13] - ninja_scrape['Total Views'][0]\n",
    "increase_in_views"
   ]
  },
  {
   "cell_type": "code",
   "execution_count": 15,
   "metadata": {},
   "outputs": [
    {
     "name": "stdout",
     "output_type": "stream",
     "text": [
      "The increase in total views on the channel at the end of the stream was 3668515.0\n",
      "The average amount of viewers during the stream was 144165.33333333334\n",
      "The least amount of viewers at one point during the stream was 89641.0\n",
      "The most amount of viewers at one point during the stream was 190954.0\n",
      "The total minutes watched during the stream was 103799040.0\n"
     ]
    }
   ],
   "source": [
    "##sumary of new metrics\n",
    "print(f\"The increase in total views on the channel at the end of the stream was {increase_in_views}\")\n",
    "print(f\"The average amount of viewers during the stream was {average_viewers}\")\n",
    "print(f\"The least amount of viewers at one point during the stream was {least_viewers}\")\n",
    "print(f\"The most amount of viewers at one point during the stream was {peak_viewers}\")\n",
    "print(f\"The total minutes watched during the stream was {total_minutes_watched}\")"
   ]
  },
  {
   "cell_type": "code",
   "execution_count": 16,
   "metadata": {},
   "outputs": [
    {
     "data": {
      "text/html": [
       "<div>\n",
       "<style scoped>\n",
       "    .dataframe tbody tr th:only-of-type {\n",
       "        vertical-align: middle;\n",
       "    }\n",
       "\n",
       "    .dataframe tbody tr th {\n",
       "        vertical-align: top;\n",
       "    }\n",
       "\n",
       "    .dataframe thead th {\n",
       "        text-align: right;\n",
       "    }\n",
       "</style>\n",
       "<table border=\"1\" class=\"dataframe\">\n",
       "  <thead>\n",
       "    <tr style=\"text-align: right;\">\n",
       "      <th></th>\n",
       "      <th>Increase in Total Views</th>\n",
       "      <th>Total Minutes Watched</th>\n",
       "      <th>Least Amount of Viewers @ One Point</th>\n",
       "      <th>Most Amount of Viewers @ One Point</th>\n",
       "      <th>Average Amount of Viewers</th>\n",
       "    </tr>\n",
       "  </thead>\n",
       "  <tbody>\n",
       "    <tr>\n",
       "      <th>0</th>\n",
       "      <td>3668515.0</td>\n",
       "      <td>103799040.0</td>\n",
       "      <td>89641.0</td>\n",
       "      <td>190954.0</td>\n",
       "      <td>144165.333333</td>\n",
       "    </tr>\n",
       "  </tbody>\n",
       "</table>\n",
       "</div>"
      ],
      "text/plain": [
       "   Increase in Total Views  Total Minutes Watched  \\\n",
       "0                3668515.0            103799040.0   \n",
       "\n",
       "   Least Amount of Viewers @ One Point  Most Amount of Viewers @ One Point  \\\n",
       "0                              89641.0                            190954.0   \n",
       "\n",
       "   Average Amount of Viewers  \n",
       "0              144165.333333  "
      ]
     },
     "execution_count": 16,
     "metadata": {},
     "output_type": "execute_result"
    }
   ],
   "source": [
    "summary_table = pd.DataFrame ({\"Increase in Total Views\":[increase_in_views],\n",
    "                               \"Total Minutes Watched\": [total_minutes_watched],\n",
    "                              \"Least Amount of Viewers @ One Point\": [least_viewers],\n",
    "                              \"Most Amount of Viewers @ One Point\":[peak_viewers],\n",
    "                              \"Average Amount of Viewers\":[average_viewers]})\n",
    "summary_table"
   ]
  },
  {
   "cell_type": "code",
   "execution_count": 17,
   "metadata": {},
   "outputs": [],
   "source": [
    "summary_table[\"Increase in Total Views\"] = summary_table[\"Increase in Total Views\"].map(\"{:,.2f}\".format)\n",
    "summary_table[\"Total Minutes Watched\"] = summary_table[\"Total Minutes Watched\"].map(\"{:,.2f}\".format)\n",
    "summary_table[\"Least Amount of Viewers @ One Point\"] = summary_table[\"Least Amount of Viewers @ One Point\"].map(\"{:,.2f}\".format)\n",
    "summary_table[\"Most Amount of Viewers @ One Point\"] = summary_table[\"Most Amount of Viewers @ One Point\"].map(\"{:,.2f}\".format)\n",
    "summary_table[\"Average Amount of Viewers\"] = summary_table[\"Average Amount of Viewers\"].map(\"{:,.2f}\".format)\n"
   ]
  },
  {
   "cell_type": "code",
   "execution_count": 18,
   "metadata": {},
   "outputs": [
    {
     "data": {
      "text/html": [
       "<div>\n",
       "<style scoped>\n",
       "    .dataframe tbody tr th:only-of-type {\n",
       "        vertical-align: middle;\n",
       "    }\n",
       "\n",
       "    .dataframe tbody tr th {\n",
       "        vertical-align: top;\n",
       "    }\n",
       "\n",
       "    .dataframe thead th {\n",
       "        text-align: right;\n",
       "    }\n",
       "</style>\n",
       "<table border=\"1\" class=\"dataframe\">\n",
       "  <thead>\n",
       "    <tr style=\"text-align: right;\">\n",
       "      <th></th>\n",
       "      <th>Increase in Total Views</th>\n",
       "      <th>Total Minutes Watched</th>\n",
       "      <th>Least Amount of Viewers @ One Point</th>\n",
       "      <th>Most Amount of Viewers @ One Point</th>\n",
       "      <th>Average Amount of Viewers</th>\n",
       "    </tr>\n",
       "  </thead>\n",
       "  <tbody>\n",
       "    <tr>\n",
       "      <th>0</th>\n",
       "      <td>3,668,515.00</td>\n",
       "      <td>103,799,040.00</td>\n",
       "      <td>89,641.00</td>\n",
       "      <td>190,954.00</td>\n",
       "      <td>144,165.33</td>\n",
       "    </tr>\n",
       "  </tbody>\n",
       "</table>\n",
       "</div>"
      ],
      "text/plain": [
       "  Increase in Total Views Total Minutes Watched  \\\n",
       "0            3,668,515.00        103,799,040.00   \n",
       "\n",
       "  Least Amount of Viewers @ One Point Most Amount of Viewers @ One Point  \\\n",
       "0                           89,641.00                         190,954.00   \n",
       "\n",
       "  Average Amount of Viewers  \n",
       "0                144,165.33  "
      ]
     },
     "execution_count": 18,
     "metadata": {},
     "output_type": "execute_result"
    }
   ],
   "source": [
    "summary_table"
   ]
  },
  {
   "cell_type": "code",
   "execution_count": 19,
   "metadata": {},
   "outputs": [
    {
     "data": {
      "text/html": [
       "<div>\n",
       "<style scoped>\n",
       "    .dataframe tbody tr th:only-of-type {\n",
       "        vertical-align: middle;\n",
       "    }\n",
       "\n",
       "    .dataframe tbody tr th {\n",
       "        vertical-align: top;\n",
       "    }\n",
       "\n",
       "    .dataframe thead th {\n",
       "        text-align: right;\n",
       "    }\n",
       "</style>\n",
       "<table border=\"1\" class=\"dataframe\">\n",
       "  <thead>\n",
       "    <tr style=\"text-align: right;\">\n",
       "      <th></th>\n",
       "      <th>Time</th>\n",
       "      <th>Stream Viewers</th>\n",
       "    </tr>\n",
       "  </thead>\n",
       "  <tbody>\n",
       "    <tr>\n",
       "      <th>0</th>\n",
       "      <td>2:23 PM</td>\n",
       "      <td>148687</td>\n",
       "    </tr>\n",
       "    <tr>\n",
       "      <th>1</th>\n",
       "      <td>4:23 PM</td>\n",
       "      <td>186953</td>\n",
       "    </tr>\n",
       "    <tr>\n",
       "      <th>2</th>\n",
       "      <td>8:23 PM</td>\n",
       "      <td>175028</td>\n",
       "    </tr>\n",
       "    <tr>\n",
       "      <th>3</th>\n",
       "      <td>12:23 AM</td>\n",
       "      <td>89641</td>\n",
       "    </tr>\n",
       "  </tbody>\n",
       "</table>\n",
       "</div>"
      ],
      "text/plain": [
       "       Time  Stream Viewers\n",
       "0   2:23 PM          148687\n",
       "1   4:23 PM          186953\n",
       "2   8:23 PM          175028\n",
       "3  12:23 AM           89641"
      ]
     },
     "execution_count": 19,
     "metadata": {},
     "output_type": "execute_result"
    }
   ],
   "source": [
    "#creating DF with time of ping and stream viewers during that time.\n",
    "trivia_questions = [{\"Time\":'2:23 PM',\"Stream Viewers\": 148687},\n",
    "                   {\"Time\":'4:23 PM',\"Stream Viewers\": 186953},\n",
    "                   {\"Time\":'8:23 PM',\"Stream Viewers\": 175028},\n",
    "                   {\"Time\":'12:23 AM',\"Stream Viewers\": 89641}]\n",
    "trivia_questions_df = pd.DataFrame(trivia_questions)\n",
    "\n",
    "trivia_questions_df = trivia_questions_df[[\"Time\",\"Stream Viewers\"]]\n",
    "\n",
    "trivia_questions_df"
   ]
  },
  {
   "cell_type": "code",
   "execution_count": 20,
   "metadata": {},
   "outputs": [
    {
     "name": "stdout",
     "output_type": "stream",
     "text": [
      "0            NaN\n",
      "1      7371660.0\n",
      "2      8921220.0\n",
      "3     10509780.0\n",
      "4     11217180.0\n",
      "5     11457240.0\n",
      "6      8326320.0\n",
      "7      8521020.0\n",
      "8     10501680.0\n",
      "9      9044820.0\n",
      "10     7015860.0\n",
      "11     5533800.0\n",
      "12     5378460.0\n",
      "13           NaN\n",
      "Name: Stream Viewers, dtype: float64\n"
     ]
    }
   ],
   "source": [
    "print(minutes_watched)"
   ]
  },
  {
   "cell_type": "code",
   "execution_count": 21,
   "metadata": {},
   "outputs": [
    {
     "data": {
      "image/png": "[encoded data removed]",
      "text/plain": [
       "<Figure size 432x288 with 1 Axes>"
      ]
     },
     "metadata": {},
     "output_type": "display_data"
    }
   ],
   "source": [
    "#Minutes Watched graph Edited\n",
    "ninja_scrape.plot(kind ='bar', x= 'Pacific Standard Time', y= 'Minutes Watched', color = 'blue', grid = False)\n",
    "plt.tight_layout()\n",
    "plt.savefig('/Users/ncabayan/Desktop/final_project_stuff/Graphs/minutes_watched.png')\n",
    "plt.show()"
   ]
  },
  {
   "cell_type": "code",
   "execution_count": 24,
   "metadata": {},
   "outputs": [
    {
     "name": "stderr",
     "output_type": "stream",
     "text": [
      "/anaconda3/lib/python3.6/site-packages/matplotlib/font_manager.py:1328: UserWarning: findfont: Font family ['Helvetica'] not found. Falling back to DejaVu Sans\n",
      "  (prop.get_family(), self.defaultFamily[fontext]))\n"
     ]
    },
    {
     "data": {
      "image/png": "[encoded data removed]",
      "text/plain": [
       "<Figure size 432x288 with 1 Axes>"
      ]
     },
     "metadata": {},
     "output_type": "display_data"
    }
   ],
   "source": [
    "hfont = {'fontname':'Helvetica'}\n",
    "\n",
    "ninja_scrape.plot(kind ='bar', x= 'Pacific Standard Time', y= 'Minutes Watched', color = 'blue', grid = False)\n",
    "plt.tight_layout()\n",
    "plt.xlabel('Pacific Standard Time', hfont)\n",
    "plt.savefig('/Users/ncabayan/Desktop/final_project_stuff/Graphs/minutes_watched.png')\n",
    "plt.show()\n",
    "\n"
   ]
  },
  {
   "cell_type": "code",
   "execution_count": null,
   "metadata": {},
   "outputs": [],
   "source": []
  }
 ],
 "metadata": {
  "kernelspec": {
   "display_name": "Python 3",
   "language": "python",
   "name": "python3"
  },
  "language_info": {
   "codemirror_mode": {
    "name": "ipython",
    "version": 3
   },
   "file_extension": ".py",
   "mimetype": "text/x-python",
   "name": "python",
   "nbconvert_exporter": "python",
   "pygments_lexer": "ipython3",
   "version": "3.6.5"
  }
 },
 "nbformat": 4,
 "nbformat_minor": 2
}
