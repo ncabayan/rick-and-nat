{
 "cells": [
  {
   "cell_type": "code",
   "execution_count": 1,
   "metadata": {},
   "outputs": [],
   "source": [
    "#dependencies\n",
    "import pandas as pd\n",
    "import numpy as np\n",
    "import matplotlib.pyplot as plt"
   ]
  },
  {
   "cell_type": "code",
   "execution_count": 2,
   "metadata": {},
   "outputs": [
    {
     "data": {
      "text/html": [
       "<div>\n",
       "<style scoped>\n",
       "    .dataframe tbody tr th:only-of-type {\n",
       "        vertical-align: middle;\n",
       "    }\n",
       "\n",
       "    .dataframe tbody tr th {\n",
       "        vertical-align: top;\n",
       "    }\n",
       "\n",
       "    .dataframe thead th {\n",
       "        text-align: right;\n",
       "    }\n",
       "</style>\n",
       "<table border=\"1\" class=\"dataframe\">\n",
       "  <thead>\n",
       "    <tr style=\"text-align: right;\">\n",
       "      <th></th>\n",
       "      <th>Unnamed: 0</th>\n",
       "      <th>time</th>\n",
       "      <th>total_views</th>\n",
       "      <th>stream_viewers</th>\n",
       "    </tr>\n",
       "  </thead>\n",
       "  <tbody>\n",
       "    <tr>\n",
       "      <th>0</th>\n",
       "      <td>0</td>\n",
       "      <td>12:23 PM</td>\n",
       "      <td>393500921</td>\n",
       "      <td>NaN</td>\n",
       "    </tr>\n",
       "    <tr>\n",
       "      <th>1</th>\n",
       "      <td>0</td>\n",
       "      <td>1:23 PM</td>\n",
       "      <td>393509466</td>\n",
       "      <td>122861.0</td>\n",
       "    </tr>\n",
       "    <tr>\n",
       "      <th>2</th>\n",
       "      <td>0</td>\n",
       "      <td>2:23 PM</td>\n",
       "      <td>394005259</td>\n",
       "      <td>148687.0</td>\n",
       "    </tr>\n",
       "    <tr>\n",
       "      <th>3</th>\n",
       "      <td>0</td>\n",
       "      <td>3:23 PM</td>\n",
       "      <td>394294748</td>\n",
       "      <td>175163.0</td>\n",
       "    </tr>\n",
       "    <tr>\n",
       "      <th>4</th>\n",
       "      <td>0</td>\n",
       "      <td>4:23 PM</td>\n",
       "      <td>394710151</td>\n",
       "      <td>186953.0</td>\n",
       "    </tr>\n",
       "    <tr>\n",
       "      <th>5</th>\n",
       "      <td>0</td>\n",
       "      <td>5:23 PM</td>\n",
       "      <td>395019218</td>\n",
       "      <td>190954.0</td>\n",
       "    </tr>\n",
       "    <tr>\n",
       "      <th>6</th>\n",
       "      <td>0</td>\n",
       "      <td>6:23 PM</td>\n",
       "      <td>395455032</td>\n",
       "      <td>138772.0</td>\n",
       "    </tr>\n",
       "    <tr>\n",
       "      <th>7</th>\n",
       "      <td>0</td>\n",
       "      <td>7:23 PM</td>\n",
       "      <td>395705528</td>\n",
       "      <td>142017.0</td>\n",
       "    </tr>\n",
       "    <tr>\n",
       "      <th>8</th>\n",
       "      <td>0</td>\n",
       "      <td>8:23 PM</td>\n",
       "      <td>396024213</td>\n",
       "      <td>175028.0</td>\n",
       "    </tr>\n",
       "    <tr>\n",
       "      <th>9</th>\n",
       "      <td>0</td>\n",
       "      <td>9:23 PM</td>\n",
       "      <td>396357748</td>\n",
       "      <td>150747.0</td>\n",
       "    </tr>\n",
       "    <tr>\n",
       "      <th>10</th>\n",
       "      <td>0</td>\n",
       "      <td>10:23 PM</td>\n",
       "      <td>396615944</td>\n",
       "      <td>116931.0</td>\n",
       "    </tr>\n",
       "    <tr>\n",
       "      <th>11</th>\n",
       "      <td>0</td>\n",
       "      <td>11:23 PM</td>\n",
       "      <td>396902582</td>\n",
       "      <td>92230.0</td>\n",
       "    </tr>\n",
       "    <tr>\n",
       "      <th>12</th>\n",
       "      <td>0</td>\n",
       "      <td>12:23 AM</td>\n",
       "      <td>397052498</td>\n",
       "      <td>89641.0</td>\n",
       "    </tr>\n",
       "    <tr>\n",
       "      <th>13</th>\n",
       "      <td>0</td>\n",
       "      <td>1:23 AM</td>\n",
       "      <td>397169436</td>\n",
       "      <td>NaN</td>\n",
       "    </tr>\n",
       "  </tbody>\n",
       "</table>\n",
       "</div>"
      ],
      "text/plain": [
       "    Unnamed: 0      time  total_views  stream_viewers\n",
       "0            0  12:23 PM    393500921             NaN\n",
       "1            0   1:23 PM    393509466        122861.0\n",
       "2            0   2:23 PM    394005259        148687.0\n",
       "3            0   3:23 PM    394294748        175163.0\n",
       "4            0   4:23 PM    394710151        186953.0\n",
       "5            0   5:23 PM    395019218        190954.0\n",
       "6            0   6:23 PM    395455032        138772.0\n",
       "7            0   7:23 PM    395705528        142017.0\n",
       "8            0   8:23 PM    396024213        175028.0\n",
       "9            0   9:23 PM    396357748        150747.0\n",
       "10           0  10:23 PM    396615944        116931.0\n",
       "11           0  11:23 PM    396902582         92230.0\n",
       "12           0  12:23 AM    397052498         89641.0\n",
       "13           0   1:23 AM    397169436             NaN"
      ]
     },
     "execution_count": 2,
     "metadata": {},
     "output_type": "execute_result"
    }
   ],
   "source": [
    "#bring in the csv and show what the file looks like\n",
    "file_path = '/Users/ncabayan/Desktop/final_project_stuff/API_PULL/ninja_twitch_pull.csv'\n",
    "file_path_df = pd.read_csv(file_path, encoding = 'UTF-8')\n",
    "file_path_df"
   ]
  },
  {
   "cell_type": "code",
   "execution_count": 3,
   "metadata": {},
   "outputs": [
    {
     "data": {
      "text/html": [
       "<div>\n",
       "<style scoped>\n",
       "    .dataframe tbody tr th:only-of-type {\n",
       "        vertical-align: middle;\n",
       "    }\n",
       "\n",
       "    .dataframe tbody tr th {\n",
       "        vertical-align: top;\n",
       "    }\n",
       "\n",
       "    .dataframe thead th {\n",
       "        text-align: right;\n",
       "    }\n",
       "</style>\n",
       "<table border=\"1\" class=\"dataframe\">\n",
       "  <thead>\n",
       "    <tr style=\"text-align: right;\">\n",
       "      <th></th>\n",
       "      <th>time</th>\n",
       "      <th>total_views</th>\n",
       "      <th>stream_viewers</th>\n",
       "    </tr>\n",
       "  </thead>\n",
       "  <tbody>\n",
       "    <tr>\n",
       "      <th>0</th>\n",
       "      <td>12:23 PM</td>\n",
       "      <td>393500921</td>\n",
       "      <td>NaN</td>\n",
       "    </tr>\n",
       "    <tr>\n",
       "      <th>1</th>\n",
       "      <td>1:23 PM</td>\n",
       "      <td>393509466</td>\n",
       "      <td>122861.0</td>\n",
       "    </tr>\n",
       "    <tr>\n",
       "      <th>2</th>\n",
       "      <td>2:23 PM</td>\n",
       "      <td>394005259</td>\n",
       "      <td>148687.0</td>\n",
       "    </tr>\n",
       "    <tr>\n",
       "      <th>3</th>\n",
       "      <td>3:23 PM</td>\n",
       "      <td>394294748</td>\n",
       "      <td>175163.0</td>\n",
       "    </tr>\n",
       "    <tr>\n",
       "      <th>4</th>\n",
       "      <td>4:23 PM</td>\n",
       "      <td>394710151</td>\n",
       "      <td>186953.0</td>\n",
       "    </tr>\n",
       "    <tr>\n",
       "      <th>5</th>\n",
       "      <td>5:23 PM</td>\n",
       "      <td>395019218</td>\n",
       "      <td>190954.0</td>\n",
       "    </tr>\n",
       "    <tr>\n",
       "      <th>6</th>\n",
       "      <td>6:23 PM</td>\n",
       "      <td>395455032</td>\n",
       "      <td>138772.0</td>\n",
       "    </tr>\n",
       "    <tr>\n",
       "      <th>7</th>\n",
       "      <td>7:23 PM</td>\n",
       "      <td>395705528</td>\n",
       "      <td>142017.0</td>\n",
       "    </tr>\n",
       "    <tr>\n",
       "      <th>8</th>\n",
       "      <td>8:23 PM</td>\n",
       "      <td>396024213</td>\n",
       "      <td>175028.0</td>\n",
       "    </tr>\n",
       "    <tr>\n",
       "      <th>9</th>\n",
       "      <td>9:23 PM</td>\n",
       "      <td>396357748</td>\n",
       "      <td>150747.0</td>\n",
       "    </tr>\n",
       "    <tr>\n",
       "      <th>10</th>\n",
       "      <td>10:23 PM</td>\n",
       "      <td>396615944</td>\n",
       "      <td>116931.0</td>\n",
       "    </tr>\n",
       "    <tr>\n",
       "      <th>11</th>\n",
       "      <td>11:23 PM</td>\n",
       "      <td>396902582</td>\n",
       "      <td>92230.0</td>\n",
       "    </tr>\n",
       "    <tr>\n",
       "      <th>12</th>\n",
       "      <td>12:23 AM</td>\n",
       "      <td>397052498</td>\n",
       "      <td>89641.0</td>\n",
       "    </tr>\n",
       "    <tr>\n",
       "      <th>13</th>\n",
       "      <td>1:23 AM</td>\n",
       "      <td>397169436</td>\n",
       "      <td>NaN</td>\n",
       "    </tr>\n",
       "  </tbody>\n",
       "</table>\n",
       "</div>"
      ],
      "text/plain": [
       "        time  total_views  stream_viewers\n",
       "0   12:23 PM    393500921             NaN\n",
       "1    1:23 PM    393509466        122861.0\n",
       "2    2:23 PM    394005259        148687.0\n",
       "3    3:23 PM    394294748        175163.0\n",
       "4    4:23 PM    394710151        186953.0\n",
       "5    5:23 PM    395019218        190954.0\n",
       "6    6:23 PM    395455032        138772.0\n",
       "7    7:23 PM    395705528        142017.0\n",
       "8    8:23 PM    396024213        175028.0\n",
       "9    9:23 PM    396357748        150747.0\n",
       "10  10:23 PM    396615944        116931.0\n",
       "11  11:23 PM    396902582         92230.0\n",
       "12  12:23 AM    397052498         89641.0\n",
       "13   1:23 AM    397169436             NaN"
      ]
     },
     "execution_count": 3,
     "metadata": {},
     "output_type": "execute_result"
    }
   ],
   "source": [
    "#remove the unnamed column and only show the three important columsn\n",
    "ninja_scrape_edited_df = file_path_df[[\"time\",\"total_views\",\"stream_viewers\"]]\n",
    "ninja_scrape_edited_df"
   ]
  },
  {
   "cell_type": "code",
   "execution_count": 4,
   "metadata": {},
   "outputs": [
    {
     "data": {
      "text/html": [
       "<div>\n",
       "<style scoped>\n",
       "    .dataframe tbody tr th:only-of-type {\n",
       "        vertical-align: middle;\n",
       "    }\n",
       "\n",
       "    .dataframe tbody tr th {\n",
       "        vertical-align: top;\n",
       "    }\n",
       "\n",
       "    .dataframe thead th {\n",
       "        text-align: right;\n",
       "    }\n",
       "</style>\n",
       "<table border=\"1\" class=\"dataframe\">\n",
       "  <thead>\n",
       "    <tr style=\"text-align: right;\">\n",
       "      <th></th>\n",
       "      <th>Pacific Standard Time</th>\n",
       "      <th>Total Views</th>\n",
       "      <th>Stream Viewers</th>\n",
       "    </tr>\n",
       "  </thead>\n",
       "  <tbody>\n",
       "    <tr>\n",
       "      <th>0</th>\n",
       "      <td>12:23 PM</td>\n",
       "      <td>393500921</td>\n",
       "      <td>NaN</td>\n",
       "    </tr>\n",
       "    <tr>\n",
       "      <th>1</th>\n",
       "      <td>1:23 PM</td>\n",
       "      <td>393509466</td>\n",
       "      <td>122861.0</td>\n",
       "    </tr>\n",
       "    <tr>\n",
       "      <th>2</th>\n",
       "      <td>2:23 PM</td>\n",
       "      <td>394005259</td>\n",
       "      <td>148687.0</td>\n",
       "    </tr>\n",
       "    <tr>\n",
       "      <th>3</th>\n",
       "      <td>3:23 PM</td>\n",
       "      <td>394294748</td>\n",
       "      <td>175163.0</td>\n",
       "    </tr>\n",
       "    <tr>\n",
       "      <th>4</th>\n",
       "      <td>4:23 PM</td>\n",
       "      <td>394710151</td>\n",
       "      <td>186953.0</td>\n",
       "    </tr>\n",
       "    <tr>\n",
       "      <th>5</th>\n",
       "      <td>5:23 PM</td>\n",
       "      <td>395019218</td>\n",
       "      <td>190954.0</td>\n",
       "    </tr>\n",
       "    <tr>\n",
       "      <th>6</th>\n",
       "      <td>6:23 PM</td>\n",
       "      <td>395455032</td>\n",
       "      <td>138772.0</td>\n",
       "    </tr>\n",
       "    <tr>\n",
       "      <th>7</th>\n",
       "      <td>7:23 PM</td>\n",
       "      <td>395705528</td>\n",
       "      <td>142017.0</td>\n",
       "    </tr>\n",
       "    <tr>\n",
       "      <th>8</th>\n",
       "      <td>8:23 PM</td>\n",
       "      <td>396024213</td>\n",
       "      <td>175028.0</td>\n",
       "    </tr>\n",
       "    <tr>\n",
       "      <th>9</th>\n",
       "      <td>9:23 PM</td>\n",
       "      <td>396357748</td>\n",
       "      <td>150747.0</td>\n",
       "    </tr>\n",
       "    <tr>\n",
       "      <th>10</th>\n",
       "      <td>10:23 PM</td>\n",
       "      <td>396615944</td>\n",
       "      <td>116931.0</td>\n",
       "    </tr>\n",
       "    <tr>\n",
       "      <th>11</th>\n",
       "      <td>11:23 PM</td>\n",
       "      <td>396902582</td>\n",
       "      <td>92230.0</td>\n",
       "    </tr>\n",
       "    <tr>\n",
       "      <th>12</th>\n",
       "      <td>12:23 AM</td>\n",
       "      <td>397052498</td>\n",
       "      <td>89641.0</td>\n",
       "    </tr>\n",
       "    <tr>\n",
       "      <th>13</th>\n",
       "      <td>1:23 AM</td>\n",
       "      <td>397169436</td>\n",
       "      <td>NaN</td>\n",
       "    </tr>\n",
       "  </tbody>\n",
       "</table>\n",
       "</div>"
      ],
      "text/plain": [
       "   Pacific Standard Time  Total Views  Stream Viewers\n",
       "0               12:23 PM    393500921             NaN\n",
       "1                1:23 PM    393509466        122861.0\n",
       "2                2:23 PM    394005259        148687.0\n",
       "3                3:23 PM    394294748        175163.0\n",
       "4                4:23 PM    394710151        186953.0\n",
       "5                5:23 PM    395019218        190954.0\n",
       "6                6:23 PM    395455032        138772.0\n",
       "7                7:23 PM    395705528        142017.0\n",
       "8                8:23 PM    396024213        175028.0\n",
       "9                9:23 PM    396357748        150747.0\n",
       "10              10:23 PM    396615944        116931.0\n",
       "11              11:23 PM    396902582         92230.0\n",
       "12              12:23 AM    397052498         89641.0\n",
       "13               1:23 AM    397169436             NaN"
      ]
     },
     "execution_count": 4,
     "metadata": {},
     "output_type": "execute_result"
    }
   ],
   "source": [
    "#rename the columns\n",
    "ninja_scrape = ninja_scrape_edited_df.rename(columns = {\"time\":\"Pacific Standard Time\",\"total_views\":\"Total Views\", \"stream_viewers\":\"Stream Viewers\"})\n",
    "ninja_scrape"
   ]
  },
  {
   "cell_type": "code",
   "execution_count": 5,
   "metadata": {},
   "outputs": [
    {
     "data": {
      "text/html": [
       "<div>\n",
       "<style scoped>\n",
       "    .dataframe tbody tr th:only-of-type {\n",
       "        vertical-align: middle;\n",
       "    }\n",
       "\n",
       "    .dataframe tbody tr th {\n",
       "        vertical-align: top;\n",
       "    }\n",
       "\n",
       "    .dataframe thead th {\n",
       "        text-align: right;\n",
       "    }\n",
       "</style>\n",
       "<table border=\"1\" class=\"dataframe\">\n",
       "  <thead>\n",
       "    <tr style=\"text-align: right;\">\n",
       "      <th></th>\n",
       "      <th>Pacific Standard Time</th>\n",
       "      <th>Total Views</th>\n",
       "      <th>Stream Viewers</th>\n",
       "      <th>Minutes Watched</th>\n",
       "    </tr>\n",
       "  </thead>\n",
       "  <tbody>\n",
       "    <tr>\n",
       "      <th>0</th>\n",
       "      <td>12:23 PM</td>\n",
       "      <td>393500921</td>\n",
       "      <td>NaN</td>\n",
       "      <td>NaN</td>\n",
       "    </tr>\n",
       "    <tr>\n",
       "      <th>1</th>\n",
       "      <td>1:23 PM</td>\n",
       "      <td>393509466</td>\n",
       "      <td>122861.0</td>\n",
       "      <td>7371660.0</td>\n",
       "    </tr>\n",
       "    <tr>\n",
       "      <th>2</th>\n",
       "      <td>2:23 PM</td>\n",
       "      <td>394005259</td>\n",
       "      <td>148687.0</td>\n",
       "      <td>8921220.0</td>\n",
       "    </tr>\n",
       "    <tr>\n",
       "      <th>3</th>\n",
       "      <td>3:23 PM</td>\n",
       "      <td>394294748</td>\n",
       "      <td>175163.0</td>\n",
       "      <td>10509780.0</td>\n",
       "    </tr>\n",
       "    <tr>\n",
       "      <th>4</th>\n",
       "      <td>4:23 PM</td>\n",
       "      <td>394710151</td>\n",
       "      <td>186953.0</td>\n",
       "      <td>11217180.0</td>\n",
       "    </tr>\n",
       "    <tr>\n",
       "      <th>5</th>\n",
       "      <td>5:23 PM</td>\n",
       "      <td>395019218</td>\n",
       "      <td>190954.0</td>\n",
       "      <td>11457240.0</td>\n",
       "    </tr>\n",
       "    <tr>\n",
       "      <th>6</th>\n",
       "      <td>6:23 PM</td>\n",
       "      <td>395455032</td>\n",
       "      <td>138772.0</td>\n",
       "      <td>8326320.0</td>\n",
       "    </tr>\n",
       "    <tr>\n",
       "      <th>7</th>\n",
       "      <td>7:23 PM</td>\n",
       "      <td>395705528</td>\n",
       "      <td>142017.0</td>\n",
       "      <td>8521020.0</td>\n",
       "    </tr>\n",
       "    <tr>\n",
       "      <th>8</th>\n",
       "      <td>8:23 PM</td>\n",
       "      <td>396024213</td>\n",
       "      <td>175028.0</td>\n",
       "      <td>10501680.0</td>\n",
       "    </tr>\n",
       "    <tr>\n",
       "      <th>9</th>\n",
       "      <td>9:23 PM</td>\n",
       "      <td>396357748</td>\n",
       "      <td>150747.0</td>\n",
       "      <td>9044820.0</td>\n",
       "    </tr>\n",
       "    <tr>\n",
       "      <th>10</th>\n",
       "      <td>10:23 PM</td>\n",
       "      <td>396615944</td>\n",
       "      <td>116931.0</td>\n",
       "      <td>7015860.0</td>\n",
       "    </tr>\n",
       "    <tr>\n",
       "      <th>11</th>\n",
       "      <td>11:23 PM</td>\n",
       "      <td>396902582</td>\n",
       "      <td>92230.0</td>\n",
       "      <td>5533800.0</td>\n",
       "    </tr>\n",
       "    <tr>\n",
       "      <th>12</th>\n",
       "      <td>12:23 AM</td>\n",
       "      <td>397052498</td>\n",
       "      <td>89641.0</td>\n",
       "      <td>5378460.0</td>\n",
       "    </tr>\n",
       "    <tr>\n",
       "      <th>13</th>\n",
       "      <td>1:23 AM</td>\n",
       "      <td>397169436</td>\n",
       "      <td>NaN</td>\n",
       "      <td>NaN</td>\n",
       "    </tr>\n",
       "  </tbody>\n",
       "</table>\n",
       "</div>"
      ],
      "text/plain": [
       "   Pacific Standard Time  Total Views  Stream Viewers  Minutes Watched\n",
       "0               12:23 PM    393500921             NaN              NaN\n",
       "1                1:23 PM    393509466        122861.0        7371660.0\n",
       "2                2:23 PM    394005259        148687.0        8921220.0\n",
       "3                3:23 PM    394294748        175163.0       10509780.0\n",
       "4                4:23 PM    394710151        186953.0       11217180.0\n",
       "5                5:23 PM    395019218        190954.0       11457240.0\n",
       "6                6:23 PM    395455032        138772.0        8326320.0\n",
       "7                7:23 PM    395705528        142017.0        8521020.0\n",
       "8                8:23 PM    396024213        175028.0       10501680.0\n",
       "9                9:23 PM    396357748        150747.0        9044820.0\n",
       "10              10:23 PM    396615944        116931.0        7015860.0\n",
       "11              11:23 PM    396902582         92230.0        5533800.0\n",
       "12              12:23 AM    397052498         89641.0        5378460.0\n",
       "13               1:23 AM    397169436             NaN              NaN"
      ]
     },
     "execution_count": 5,
     "metadata": {},
     "output_type": "execute_result"
    }
   ],
   "source": [
    "minutes_watched = ninja_scrape[\"Stream Viewers\"]*60\n",
    "ninja_scrape[\"Minutes Watched\"] = minutes_watched\n",
    "ninja_scrape"
   ]
  },
  {
   "cell_type": "code",
   "execution_count": 6,
   "metadata": {},
   "outputs": [
    {
     "data": {
      "text/plain": [
       "103799040.0"
      ]
     },
     "execution_count": 6,
     "metadata": {},
     "output_type": "execute_result"
    }
   ],
   "source": [
    "total_minutes_watched = ninja_scrape['Minutes Watched'].sum()\n",
    "total_minutes_watched"
   ]
  },
  {
   "cell_type": "code",
   "execution_count": 7,
   "metadata": {},
   "outputs": [
    {
     "data": {
      "text/plain": [
       "190954.0"
      ]
     },
     "execution_count": 7,
     "metadata": {},
     "output_type": "execute_result"
    }
   ],
   "source": [
    "peak_viewers = ninja_scrape[\"Stream Viewers\"].max()\n",
    "peak_viewers"
   ]
  },
  {
   "cell_type": "code",
   "execution_count": 8,
   "metadata": {},
   "outputs": [
    {
     "data": {
      "text/plain": [
       "89641.0"
      ]
     },
     "execution_count": 8,
     "metadata": {},
     "output_type": "execute_result"
    }
   ],
   "source": [
    "least_viewers = ninja_scrape[\"Stream Viewers\"].min()\n",
    "least_viewers"
   ]
  },
  {
   "cell_type": "code",
   "execution_count": 9,
   "metadata": {},
   "outputs": [
    {
     "data": {
      "text/plain": [
       "144165.33333333334"
      ]
     },
     "execution_count": 9,
     "metadata": {},
     "output_type": "execute_result"
    }
   ],
   "source": [
    "average_viewers = ninja_scrape[\"Stream Viewers\"].mean()\n",
    "average_viewers"
   ]
  },
  {
   "cell_type": "code",
   "execution_count": 10,
   "metadata": {},
   "outputs": [
    {
     "data": {
      "text/html": [
       "<div>\n",
       "<style scoped>\n",
       "    .dataframe tbody tr th:only-of-type {\n",
       "        vertical-align: middle;\n",
       "    }\n",
       "\n",
       "    .dataframe tbody tr th {\n",
       "        vertical-align: top;\n",
       "    }\n",
       "\n",
       "    .dataframe thead th {\n",
       "        text-align: right;\n",
       "    }\n",
       "</style>\n",
       "<table border=\"1\" class=\"dataframe\">\n",
       "  <thead>\n",
       "    <tr style=\"text-align: right;\">\n",
       "      <th></th>\n",
       "      <th>Total Views</th>\n",
       "      <th>Stream Viewers</th>\n",
       "      <th>Minutes Watched</th>\n",
       "    </tr>\n",
       "  </thead>\n",
       "  <tbody>\n",
       "    <tr>\n",
       "      <th>count</th>\n",
       "      <td>1.400000e+01</td>\n",
       "      <td>12.000000</td>\n",
       "      <td>1.200000e+01</td>\n",
       "    </tr>\n",
       "    <tr>\n",
       "      <th>mean</th>\n",
       "      <td>3.954516e+08</td>\n",
       "      <td>144165.333333</td>\n",
       "      <td>8.649920e+06</td>\n",
       "    </tr>\n",
       "    <tr>\n",
       "      <th>std</th>\n",
       "      <td>1.298884e+06</td>\n",
       "      <td>34240.533889</td>\n",
       "      <td>2.054432e+06</td>\n",
       "    </tr>\n",
       "    <tr>\n",
       "      <th>min</th>\n",
       "      <td>3.935009e+08</td>\n",
       "      <td>89641.000000</td>\n",
       "      <td>5.378460e+06</td>\n",
       "    </tr>\n",
       "    <tr>\n",
       "      <th>25%</th>\n",
       "      <td>3.943986e+08</td>\n",
       "      <td>121378.500000</td>\n",
       "      <td>7.282710e+06</td>\n",
       "    </tr>\n",
       "    <tr>\n",
       "      <th>50%</th>\n",
       "      <td>3.955803e+08</td>\n",
       "      <td>145352.000000</td>\n",
       "      <td>8.721120e+06</td>\n",
       "    </tr>\n",
       "    <tr>\n",
       "      <th>75%</th>\n",
       "      <td>3.965514e+08</td>\n",
       "      <td>175061.750000</td>\n",
       "      <td>1.050370e+07</td>\n",
       "    </tr>\n",
       "    <tr>\n",
       "      <th>max</th>\n",
       "      <td>3.971694e+08</td>\n",
       "      <td>190954.000000</td>\n",
       "      <td>1.145724e+07</td>\n",
       "    </tr>\n",
       "  </tbody>\n",
       "</table>\n",
       "</div>"
      ],
      "text/plain": [
       "        Total Views  Stream Viewers  Minutes Watched\n",
       "count  1.400000e+01       12.000000     1.200000e+01\n",
       "mean   3.954516e+08   144165.333333     8.649920e+06\n",
       "std    1.298884e+06    34240.533889     2.054432e+06\n",
       "min    3.935009e+08    89641.000000     5.378460e+06\n",
       "25%    3.943986e+08   121378.500000     7.282710e+06\n",
       "50%    3.955803e+08   145352.000000     8.721120e+06\n",
       "75%    3.965514e+08   175061.750000     1.050370e+07\n",
       "max    3.971694e+08   190954.000000     1.145724e+07"
      ]
     },
     "execution_count": 10,
     "metadata": {},
     "output_type": "execute_result"
    }
   ],
   "source": [
    "ninja_scrape.describe()"
   ]
  },
  {
   "cell_type": "code",
   "execution_count": 11,
   "metadata": {},
   "outputs": [
    {
     "data": {
      "text/plain": [
       "Pacific Standard Time     object\n",
       "Total Views                int64\n",
       "Stream Viewers           float64\n",
       "Minutes Watched          float64\n",
       "dtype: object"
      ]
     },
     "execution_count": 11,
     "metadata": {},
     "output_type": "execute_result"
    }
   ],
   "source": [
    "ninja_scrape.dtypes"
   ]
  },
  {
   "cell_type": "code",
   "execution_count": 12,
   "metadata": {},
   "outputs": [],
   "source": [
    "#change total views from integero to float \n",
    "ninja_scrape['Total Views'] = ninja_scrape['Total Views'].astype(float)"
   ]
  },
  {
   "cell_type": "code",
   "execution_count": 13,
   "metadata": {},
   "outputs": [
    {
     "data": {
      "text/plain": [
       "Pacific Standard Time     object\n",
       "Total Views              float64\n",
       "Stream Viewers           float64\n",
       "Minutes Watched          float64\n",
       "dtype: object"
      ]
     },
     "execution_count": 13,
     "metadata": {},
     "output_type": "execute_result"
    }
   ],
   "source": [
    "ninja_scrape.dtypes"
   ]
  },
  {
   "cell_type": "code",
   "execution_count": 14,
   "metadata": {},
   "outputs": [
    {
     "data": {
      "text/plain": [
       "3668515.0"
      ]
     },
     "execution_count": 14,
     "metadata": {},
     "output_type": "execute_result"
    }
   ],
   "source": [
    "increase_in_views = ninja_scrape['Total Views'][13] - ninja_scrape['Total Views'][0]\n",
    "increase_in_views\n"
   ]
  },
  {
   "cell_type": "code",
   "execution_count": 15,
   "metadata": {},
   "outputs": [
    {
     "name": "stdout",
     "output_type": "stream",
     "text": [
      "The increase in total views on the channel at the end of the stream was 3668515.0\n",
      "The average amount of viewers during the stream was 144165.33333333334\n",
      "The least amount of viewers at one point during the stream was 89641.0\n",
      "The most amount of viewers at one point during the stream was 190954.0\n",
      "The total minutes watched during the stream was 103799040.0\n"
     ]
    }
   ],
   "source": [
    "##sumary of new metrics\n",
    "print(f\"The increase in total views on the channel at the end of the stream was {increase_in_views}\")\n",
    "print(f\"The average amount of viewers during the stream was {average_viewers}\")\n",
    "print(f\"The least amount of viewers at one point during the stream was {least_viewers}\")\n",
    "print(f\"The most amount of viewers at one point during the stream was {peak_viewers}\")\n",
    "print(f\"The total minutes watched during the stream was {total_minutes_watched}\")"
   ]
  },
  {
   "cell_type": "code",
   "execution_count": 16,
   "metadata": {},
   "outputs": [
    {
     "data": {
      "text/html": [
       "<div>\n",
       "<style scoped>\n",
       "    .dataframe tbody tr th:only-of-type {\n",
       "        vertical-align: middle;\n",
       "    }\n",
       "\n",
       "    .dataframe tbody tr th {\n",
       "        vertical-align: top;\n",
       "    }\n",
       "\n",
       "    .dataframe thead th {\n",
       "        text-align: right;\n",
       "    }\n",
       "</style>\n",
       "<table border=\"1\" class=\"dataframe\">\n",
       "  <thead>\n",
       "    <tr style=\"text-align: right;\">\n",
       "      <th></th>\n",
       "      <th>Increase in Total Views</th>\n",
       "      <th>Total Minutes Watched</th>\n",
       "      <th>Least Amount of Viewers @ One Point</th>\n",
       "      <th>Most Amount of Viewers @ One Point</th>\n",
       "      <th>Average Amount of Viewers</th>\n",
       "    </tr>\n",
       "  </thead>\n",
       "  <tbody>\n",
       "    <tr>\n",
       "      <th>0</th>\n",
       "      <td>3668515.0</td>\n",
       "      <td>103799040.0</td>\n",
       "      <td>89641.0</td>\n",
       "      <td>190954.0</td>\n",
       "      <td>144165.333333</td>\n",
       "    </tr>\n",
       "  </tbody>\n",
       "</table>\n",
       "</div>"
      ],
      "text/plain": [
       "   Increase in Total Views  Total Minutes Watched  \\\n",
       "0                3668515.0            103799040.0   \n",
       "\n",
       "   Least Amount of Viewers @ One Point  Most Amount of Viewers @ One Point  \\\n",
       "0                              89641.0                            190954.0   \n",
       "\n",
       "   Average Amount of Viewers  \n",
       "0              144165.333333  "
      ]
     },
     "execution_count": 16,
     "metadata": {},
     "output_type": "execute_result"
    }
   ],
   "source": [
    "summary_table = pd.DataFrame ({\"Increase in Total Views\":[increase_in_views],\n",
    "                               \"Total Minutes Watched\": [total_minutes_watched],\n",
    "                              \"Least Amount of Viewers @ One Point\": [least_viewers],\n",
    "                              \"Most Amount of Viewers @ One Point\":[peak_viewers],\n",
    "                              \"Average Amount of Viewers\":[average_viewers]})\n",
    "summary_table"
   ]
  },
  {
   "cell_type": "code",
   "execution_count": 17,
   "metadata": {},
   "outputs": [],
   "source": [
    "summary_table[\"Increase in Total Views\"] = summary_table[\"Increase in Total Views\"].map(\"{:,.2f}\".format)\n",
    "summary_table[\"Total Minutes Watched\"] = summary_table[\"Total Minutes Watched\"].map(\"{:,.2f}\".format)\n",
    "summary_table[\"Least Amount of Viewers @ One Point\"] = summary_table[\"Least Amount of Viewers @ One Point\"].map(\"{:,.2f}\".format)\n",
    "summary_table[\"Most Amount of Viewers @ One Point\"] = summary_table[\"Most Amount of Viewers @ One Point\"].map(\"{:,.2f}\".format)\n",
    "summary_table[\"Average Amount of Viewers\"] = summary_table[\"Average Amount of Viewers\"].map(\"{:,.2f}\".format)\n"
   ]
  },
  {
   "cell_type": "code",
   "execution_count": 18,
   "metadata": {},
   "outputs": [
    {
     "data": {
      "text/html": [
       "<div>\n",
       "<style scoped>\n",
       "    .dataframe tbody tr th:only-of-type {\n",
       "        vertical-align: middle;\n",
       "    }\n",
       "\n",
       "    .dataframe tbody tr th {\n",
       "        vertical-align: top;\n",
       "    }\n",
       "\n",
       "    .dataframe thead th {\n",
       "        text-align: right;\n",
       "    }\n",
       "</style>\n",
       "<table border=\"1\" class=\"dataframe\">\n",
       "  <thead>\n",
       "    <tr style=\"text-align: right;\">\n",
       "      <th></th>\n",
       "      <th>Increase in Total Views</th>\n",
       "      <th>Total Minutes Watched</th>\n",
       "      <th>Least Amount of Viewers @ One Point</th>\n",
       "      <th>Most Amount of Viewers @ One Point</th>\n",
       "      <th>Average Amount of Viewers</th>\n",
       "    </tr>\n",
       "  </thead>\n",
       "  <tbody>\n",
       "    <tr>\n",
       "      <th>0</th>\n",
       "      <td>3,668,515.00</td>\n",
       "      <td>103,799,040.00</td>\n",
       "      <td>89,641.00</td>\n",
       "      <td>190,954.00</td>\n",
       "      <td>144,165.33</td>\n",
       "    </tr>\n",
       "  </tbody>\n",
       "</table>\n",
       "</div>"
      ],
      "text/plain": [
       "  Increase in Total Views Total Minutes Watched  \\\n",
       "0            3,668,515.00        103,799,040.00   \n",
       "\n",
       "  Least Amount of Viewers @ One Point Most Amount of Viewers @ One Point  \\\n",
       "0                           89,641.00                         190,954.00   \n",
       "\n",
       "  Average Amount of Viewers  \n",
       "0                144,165.33  "
      ]
     },
     "execution_count": 18,
     "metadata": {},
     "output_type": "execute_result"
    }
   ],
   "source": [
    "summary_table"
   ]
  },
  {
   "cell_type": "code",
   "execution_count": 19,
   "metadata": {},
   "outputs": [
    {
     "data": {
      "text/html": [
       "<div>\n",
       "<style scoped>\n",
       "    .dataframe tbody tr th:only-of-type {\n",
       "        vertical-align: middle;\n",
       "    }\n",
       "\n",
       "    .dataframe tbody tr th {\n",
       "        vertical-align: top;\n",
       "    }\n",
       "\n",
       "    .dataframe thead th {\n",
       "        text-align: right;\n",
       "    }\n",
       "</style>\n",
       "<table border=\"1\" class=\"dataframe\">\n",
       "  <thead>\n",
       "    <tr style=\"text-align: right;\">\n",
       "      <th></th>\n",
       "      <th>Time</th>\n",
       "      <th>Stream Viewers</th>\n",
       "    </tr>\n",
       "  </thead>\n",
       "  <tbody>\n",
       "    <tr>\n",
       "      <th>0</th>\n",
       "      <td>2:23 PM</td>\n",
       "      <td>148687</td>\n",
       "    </tr>\n",
       "    <tr>\n",
       "      <th>1</th>\n",
       "      <td>4:23 PM</td>\n",
       "      <td>186953</td>\n",
       "    </tr>\n",
       "    <tr>\n",
       "      <th>2</th>\n",
       "      <td>8:23 PM</td>\n",
       "      <td>175028</td>\n",
       "    </tr>\n",
       "    <tr>\n",
       "      <th>3</th>\n",
       "      <td>12:23 AM</td>\n",
       "      <td>89641</td>\n",
       "    </tr>\n",
       "  </tbody>\n",
       "</table>\n",
       "</div>"
      ],
      "text/plain": [
       "       Time  Stream Viewers\n",
       "0   2:23 PM          148687\n",
       "1   4:23 PM          186953\n",
       "2   8:23 PM          175028\n",
       "3  12:23 AM           89641"
      ]
     },
     "execution_count": 19,
     "metadata": {},
     "output_type": "execute_result"
    }
   ],
   "source": [
    "#creating DF with time of ping and stream viewers during that time.\n",
    "trivia_questions = [{\"Time\":'2:23 PM',\"Stream Viewers\": 148687},\n",
    "                   {\"Time\":'4:23 PM',\"Stream Viewers\": 186953},\n",
    "                   {\"Time\":'8:23 PM',\"Stream Viewers\": 175028},\n",
    "                   {\"Time\":'12:23 AM',\"Stream Viewers\": 89641}]\n",
    "trivia_questions_df = pd.DataFrame(trivia_questions)\n",
    "\n",
    "trivia_questions_df = trivia_questions_df[[\"Time\",\"Stream Viewers\"]]\n",
    "\n",
    "trivia_questions_df"
   ]
  },
  {
   "cell_type": "code",
   "execution_count": 20,
   "metadata": {},
   "outputs": [
    {
     "name": "stdout",
     "output_type": "stream",
     "text": [
      "0            NaN\n",
      "1      7371660.0\n",
      "2      8921220.0\n",
      "3     10509780.0\n",
      "4     11217180.0\n",
      "5     11457240.0\n",
      "6      8326320.0\n",
      "7      8521020.0\n",
      "8     10501680.0\n",
      "9      9044820.0\n",
      "10     7015860.0\n",
      "11     5533800.0\n",
      "12     5378460.0\n",
      "13           NaN\n",
      "Name: Stream Viewers, dtype: float64\n"
     ]
    }
   ],
   "source": [
    "print(minutes_watched)"
   ]
  },
  {
   "cell_type": "code",
   "execution_count": 22,
   "metadata": {},
   "outputs": [
    {
     "data": {
      "image/png": "[encoded data removed]",
      "text/plain": [
       "<Figure size 432x288 with 1 Axes>"
      ]
     },
     "metadata": {},
     "output_type": "display_data"
    }
   ],
   "source": [
    "#graph that shows the change in minutes watched at every hourly ping \n",
    "#1:30to 5:30 pm our time saw a steady increase. This was 4:30 to 8:30pm when people were most likely at home preparing \n",
    "#for their new years plans. \n",
    "ninja_scrape.plot(kind ='bar', x= 'Pacific Standard Time', y= 'Minutes Watched', grid = False, title = 'Minutes Watched Every Hour')\n",
    "plt.tight_layout()\n",
    "plt.savefig('/Users/ncabayan/Desktop/final_project_stuff/Graphs/minutes_watched.png')\n",
    "plt.show()"
   ]
  },
  {
   "cell_type": "code",
   "execution_count": 23,
   "metadata": {},
   "outputs": [
    {
     "data": {
      "image/png": "[encoded data removed]",
      "text/plain": [
       "<Figure size 432x288 with 1 Axes>"
      ]
     },
     "metadata": {},
     "output_type": "display_data"
    }
   ],
   "source": [
    "#stream viewers retention analysis. We see a huge drop in viewers from 5:30pm to 6:30pm which is 8:30-9:30pm in the east coast\n",
    "#which is where the stream was happening. this may be around when people were leaving there homes to go out for new years\n",
    "#After 8:30pm our time 11:30pm in NY we see a constant drop hour over hour. This may be because people watched\n",
    "#the stream till midnight and then they were done. It would be safe to say that the stream could have ended at midnight\n",
    "#it wasn't as if ninja never streams for that long either so it wasn't super special. The cost that went into having\n",
    "#security for the event till it was done was a sunk cost in a way since viewership dipped so much. We could have\n",
    "#increased viewers and decreased costs by cutting off the stream right after midnight.\n",
    "ninja_scrape.plot(kind ='line', x= 'Pacific Standard Time', y= 'Stream Viewers', marker = '^', color = 'purple', grid = False, title = 'Retention Analysis')\n",
    "plt.savefig('/Users/ncabayan/Desktop/final_project_stuff/Graphs/stream_viewers_retention_analysis.png')\n",
    "plt.show()"
   ]
  },
  {
   "cell_type": "code",
   "execution_count": 24,
   "metadata": {},
   "outputs": [
    {
     "data": {
      "image/png": "[encoded data removed]",
      "text/plain": [
       "<Figure size 432x288 with 1 Axes>"
      ]
     },
     "metadata": {},
     "output_type": "display_data"
    }
   ],
   "source": [
    "#total channel views\n",
    "# we can see how the total channel views grew and when we saw the largest and smalletst amounts of growth \n",
    "ninja_scrape.plot(kind ='line', x= 'Pacific Standard Time', y= 'Total Views', marker = 's', color = 'green', grid = False, title = 'Total Channel Views')\n",
    "plt.savefig('/Users/ncabayan/Desktop/final_project_stuff/Graphs/total_channel_views.png')\n",
    "plt.show()"
   ]
  },
  {
   "cell_type": "code",
   "execution_count": 25,
   "metadata": {},
   "outputs": [
    {
     "data": {
      "text/html": [
       "<div>\n",
       "<style scoped>\n",
       "    .dataframe tbody tr th:only-of-type {\n",
       "        vertical-align: middle;\n",
       "    }\n",
       "\n",
       "    .dataframe tbody tr th {\n",
       "        vertical-align: top;\n",
       "    }\n",
       "\n",
       "    .dataframe thead th {\n",
       "        text-align: right;\n",
       "    }\n",
       "</style>\n",
       "<table border=\"1\" class=\"dataframe\">\n",
       "  <thead>\n",
       "    <tr style=\"text-align: right;\">\n",
       "      <th></th>\n",
       "      <th>What was the first 'vehicle' introduced to Fortnite?</th>\n",
       "      <th>Winner ID 1</th>\n",
       "      <th>Winner ID 2</th>\n",
       "      <th>VOTER ID 1</th>\n",
       "      <th>Voter ID 2</th>\n",
       "    </tr>\n",
       "  </thead>\n",
       "  <tbody>\n",
       "    <tr>\n",
       "      <th>0</th>\n",
       "      <td>0. X-4 Stormwing</td>\n",
       "      <td>18366048.0</td>\n",
       "      <td>1.546294e+09</td>\n",
       "      <td>47862245</td>\n",
       "      <td>1546294341</td>\n",
       "    </tr>\n",
       "    <tr>\n",
       "      <th>1</th>\n",
       "      <td>1. All Terrante Kart</td>\n",
       "      <td>93088786.0</td>\n",
       "      <td>1.546294e+09</td>\n",
       "      <td>20985391</td>\n",
       "      <td>1546294296</td>\n",
       "    </tr>\n",
       "    <tr>\n",
       "      <th>2</th>\n",
       "      <td>2. Quadcrasher</td>\n",
       "      <td>146065234.0</td>\n",
       "      <td>1.546294e+09</td>\n",
       "      <td>114200165</td>\n",
       "      <td>1546294307</td>\n",
       "    </tr>\n",
       "    <tr>\n",
       "      <th>3</th>\n",
       "      <td>3. Shopping Cart</td>\n",
       "      <td>96318761.0</td>\n",
       "      <td>1.546294e+09</td>\n",
       "      <td>201592773</td>\n",
       "      <td>1546294299</td>\n",
       "    </tr>\n",
       "    <tr>\n",
       "      <th>4</th>\n",
       "      <td>12/31/18 16:11</td>\n",
       "      <td>162454656.0</td>\n",
       "      <td>1.546294e+09</td>\n",
       "      <td>198095313</td>\n",
       "      <td>1546294294</td>\n",
       "    </tr>\n",
       "  </tbody>\n",
       "</table>\n",
       "</div>"
      ],
      "text/plain": [
       "  What was the first 'vehicle' introduced to Fortnite?  Winner ID 1  \\\n",
       "0                                   0. X-4 Stormwing     18366048.0   \n",
       "1                               1. All Terrante Kart     93088786.0   \n",
       "2                                     2. Quadcrasher    146065234.0   \n",
       "3                                   3. Shopping Cart     96318761.0   \n",
       "4                                     12/31/18 16:11    162454656.0   \n",
       "\n",
       "    Winner ID 2  VOTER ID 1  Voter ID 2  \n",
       "0  1.546294e+09    47862245  1546294341  \n",
       "1  1.546294e+09    20985391  1546294296  \n",
       "2  1.546294e+09   114200165  1546294307  \n",
       "3  1.546294e+09   201592773  1546294299  \n",
       "4  1.546294e+09   198095313  1546294294  "
      ]
     },
     "execution_count": 25,
     "metadata": {},
     "output_type": "execute_result"
    }
   ],
   "source": [
    "#import question 1 csv\n",
    "question1_csv = '/Users/ncabayan/Desktop/final_project_stuff/ninja_twitch_csv/question_1_twitch.csv'\n",
    "question1_df = pd.read_csv(question1_csv, encoding = 'UTF-8')\n",
    "question1_df.head()\n"
   ]
  },
  {
   "cell_type": "code",
   "execution_count": 26,
   "metadata": {},
   "outputs": [
    {
     "data": {
      "text/plain": [
       "9569"
      ]
     },
     "execution_count": 26,
     "metadata": {},
     "output_type": "execute_result"
    }
   ],
   "source": [
    "question_1_vote_count = question1_df[\"Voter ID 2\"].count()\n",
    "question_1_vote_count"
   ]
  },
  {
   "cell_type": "code",
   "execution_count": 27,
   "metadata": {},
   "outputs": [
    {
     "data": {
      "text/plain": [
       "8455"
      ]
     },
     "execution_count": 27,
     "metadata": {},
     "output_type": "execute_result"
    }
   ],
   "source": [
    "question_1_winner_count = question1_df[\"Winner ID 1\"].count()\n",
    "question_1_winner_count"
   ]
  },
  {
   "cell_type": "code",
   "execution_count": 28,
   "metadata": {},
   "outputs": [
    {
     "data": {
      "text/plain": [
       "1114"
      ]
     },
     "execution_count": 28,
     "metadata": {},
     "output_type": "execute_result"
    }
   ],
   "source": [
    "question_1_incorrect_count = question_1_vote_count - question_1_winner_count \n",
    "question_1_incorrect_count"
   ]
  },
  {
   "cell_type": "code",
   "execution_count": 29,
   "metadata": {},
   "outputs": [
    {
     "data": {
      "text/plain": [
       "148687"
      ]
     },
     "execution_count": 29,
     "metadata": {},
     "output_type": "execute_result"
    }
   ],
   "source": [
    "question_1_stream_viewers = 148687\n",
    "question_1_stream_viewers"
   ]
  },
  {
   "cell_type": "code",
   "execution_count": 30,
   "metadata": {},
   "outputs": [
    {
     "data": {
      "text/plain": [
       "6.435666870674639"
      ]
     },
     "execution_count": 30,
     "metadata": {},
     "output_type": "execute_result"
    }
   ],
   "source": [
    "question_1_engagement_rate = (question_1_vote_count/question_1_stream_viewers)*100\n",
    "question_1_engagement_rate"
   ]
  },
  {
   "cell_type": "code",
   "execution_count": 31,
   "metadata": {},
   "outputs": [
    {
     "data": {
      "text/html": [
       "<div>\n",
       "<style scoped>\n",
       "    .dataframe tbody tr th:only-of-type {\n",
       "        vertical-align: middle;\n",
       "    }\n",
       "\n",
       "    .dataframe tbody tr th {\n",
       "        vertical-align: top;\n",
       "    }\n",
       "\n",
       "    .dataframe thead th {\n",
       "        text-align: right;\n",
       "    }\n",
       "</style>\n",
       "<table border=\"1\" class=\"dataframe\">\n",
       "  <thead>\n",
       "    <tr style=\"text-align: right;\">\n",
       "      <th></th>\n",
       "      <th>Question 1: Total Votes</th>\n",
       "      <th>Question 1: Number of Questions Answered Correctly</th>\n",
       "      <th>Question 1: Number of Questions Answered Incorrectly</th>\n",
       "      <th>Question 1: Engagement Rate</th>\n",
       "      <th>Total Stream Viewers during Question 1</th>\n",
       "    </tr>\n",
       "  </thead>\n",
       "  <tbody>\n",
       "    <tr>\n",
       "      <th>0</th>\n",
       "      <td>9569</td>\n",
       "      <td>8455</td>\n",
       "      <td>1114</td>\n",
       "      <td>6.435667</td>\n",
       "      <td>148687</td>\n",
       "    </tr>\n",
       "  </tbody>\n",
       "</table>\n",
       "</div>"
      ],
      "text/plain": [
       "   Question 1: Total Votes  \\\n",
       "0                     9569   \n",
       "\n",
       "   Question 1: Number of Questions Answered Correctly  \\\n",
       "0                                               8455    \n",
       "\n",
       "   Question 1: Number of Questions Answered Incorrectly  \\\n",
       "0                                               1114      \n",
       "\n",
       "   Question 1: Engagement Rate  Total Stream Viewers during Question 1  \n",
       "0                     6.435667                                  148687  "
      ]
     },
     "execution_count": 31,
     "metadata": {},
     "output_type": "execute_result"
    }
   ],
   "source": [
    "question_1_table = pd.DataFrame ({\"Question 1: Total Votes\":[question_1_vote_count],\n",
    "                               \"Question 1: Number of Questions Answered Correctly\": [question_1_winner_count],\n",
    "                                \"Question 1: Number of Questions Answered Incorrectly\": [question_1_incorrect_count],\n",
    "                                  \"Question 1: Engagement Rate\": [question_1_engagement_rate],\n",
    "                              \"Total Stream Viewers during Question 1\": [question_1_stream_viewers]})\n",
    "question_1_table"
   ]
  },
  {
   "cell_type": "code",
   "execution_count": 32,
   "metadata": {},
   "outputs": [],
   "source": [
    "question_1_table[\"Question 1: Engagement Rate\"] = question_1_table[\"Question 1: Engagement Rate\"].map(\"{:,.2f}%\".format)"
   ]
  },
  {
   "cell_type": "code",
   "execution_count": 33,
   "metadata": {},
   "outputs": [
    {
     "data": {
      "text/html": [
       "<div>\n",
       "<style scoped>\n",
       "    .dataframe tbody tr th:only-of-type {\n",
       "        vertical-align: middle;\n",
       "    }\n",
       "\n",
       "    .dataframe tbody tr th {\n",
       "        vertical-align: top;\n",
       "    }\n",
       "\n",
       "    .dataframe thead th {\n",
       "        text-align: right;\n",
       "    }\n",
       "</style>\n",
       "<table border=\"1\" class=\"dataframe\">\n",
       "  <thead>\n",
       "    <tr style=\"text-align: right;\">\n",
       "      <th></th>\n",
       "      <th>Question 1: Total Votes</th>\n",
       "      <th>Question 1: Number of Questions Answered Correctly</th>\n",
       "      <th>Question 1: Number of Questions Answered Incorrectly</th>\n",
       "      <th>Question 1: Engagement Rate</th>\n",
       "      <th>Total Stream Viewers during Question 1</th>\n",
       "    </tr>\n",
       "  </thead>\n",
       "  <tbody>\n",
       "    <tr>\n",
       "      <th>0</th>\n",
       "      <td>9569</td>\n",
       "      <td>8455</td>\n",
       "      <td>1114</td>\n",
       "      <td>6.44%</td>\n",
       "      <td>148687</td>\n",
       "    </tr>\n",
       "  </tbody>\n",
       "</table>\n",
       "</div>"
      ],
      "text/plain": [
       "   Question 1: Total Votes  \\\n",
       "0                     9569   \n",
       "\n",
       "   Question 1: Number of Questions Answered Correctly  \\\n",
       "0                                               8455    \n",
       "\n",
       "   Question 1: Number of Questions Answered Incorrectly  \\\n",
       "0                                               1114      \n",
       "\n",
       "  Question 1: Engagement Rate  Total Stream Viewers during Question 1  \n",
       "0                       6.44%                                  148687  "
      ]
     },
     "execution_count": 33,
     "metadata": {},
     "output_type": "execute_result"
    }
   ],
   "source": [
    "question_1_table"
   ]
  },
  {
   "cell_type": "code",
   "execution_count": 34,
   "metadata": {},
   "outputs": [
    {
     "data": {
      "text/html": [
       "<div>\n",
       "<style scoped>\n",
       "    .dataframe tbody tr th:only-of-type {\n",
       "        vertical-align: middle;\n",
       "    }\n",
       "\n",
       "    .dataframe tbody tr th {\n",
       "        vertical-align: top;\n",
       "    }\n",
       "\n",
       "    .dataframe thead th {\n",
       "        text-align: right;\n",
       "    }\n",
       "</style>\n",
       "<table border=\"1\" class=\"dataframe\">\n",
       "  <thead>\n",
       "    <tr style=\"text-align: right;\">\n",
       "      <th></th>\n",
       "      <th>Percent Correct</th>\n",
       "      <th>Percent Incorrect</th>\n",
       "    </tr>\n",
       "  </thead>\n",
       "  <tbody>\n",
       "    <tr>\n",
       "      <th>0</th>\n",
       "      <td>88.35824</td>\n",
       "      <td>11.64176</td>\n",
       "    </tr>\n",
       "  </tbody>\n",
       "</table>\n",
       "</div>"
      ],
      "text/plain": [
       "   Percent Correct  Percent Incorrect\n",
       "0         88.35824           11.64176"
      ]
     },
     "execution_count": 34,
     "metadata": {},
     "output_type": "execute_result"
    }
   ],
   "source": [
    "percent_correct_question_1 = (question_1_winner_count/question_1_vote_count)*100\n",
    "percent_incorrect_question_1 = (question_1_incorrect_count/question_1_vote_count)*100\n",
    "\n",
    "question_1_incorrect_vs_correct = pd.DataFrame ({\"Percent Correct\":[percent_correct_question_1],\n",
    "                               \"Percent Incorrect\": [percent_incorrect_question_1]})\n",
    "question_1_incorrect_vs_correct"
   ]
  },
  {
   "cell_type": "code",
   "execution_count": 35,
   "metadata": {},
   "outputs": [],
   "source": [
    "question_1_incorrect_vs_correct[\"Percent Correct\"] = question_1_incorrect_vs_correct[\"Percent Correct\"].map(\"{:,.2f}%\".format)\n",
    "question_1_incorrect_vs_correct[\"Percent Incorrect\"] = question_1_incorrect_vs_correct[\"Percent Incorrect\"].map(\"{:,.2f}%\".format)"
   ]
  },
  {
   "cell_type": "code",
   "execution_count": 36,
   "metadata": {},
   "outputs": [
    {
     "data": {
      "text/html": [
       "<div>\n",
       "<style scoped>\n",
       "    .dataframe tbody tr th:only-of-type {\n",
       "        vertical-align: middle;\n",
       "    }\n",
       "\n",
       "    .dataframe tbody tr th {\n",
       "        vertical-align: top;\n",
       "    }\n",
       "\n",
       "    .dataframe thead th {\n",
       "        text-align: right;\n",
       "    }\n",
       "</style>\n",
       "<table border=\"1\" class=\"dataframe\">\n",
       "  <thead>\n",
       "    <tr style=\"text-align: right;\">\n",
       "      <th></th>\n",
       "      <th>Percent Correct</th>\n",
       "      <th>Percent Incorrect</th>\n",
       "    </tr>\n",
       "  </thead>\n",
       "  <tbody>\n",
       "    <tr>\n",
       "      <th>0</th>\n",
       "      <td>88.36%</td>\n",
       "      <td>11.64%</td>\n",
       "    </tr>\n",
       "  </tbody>\n",
       "</table>\n",
       "</div>"
      ],
      "text/plain": [
       "  Percent Correct Percent Incorrect\n",
       "0          88.36%            11.64%"
      ]
     },
     "execution_count": 36,
     "metadata": {},
     "output_type": "execute_result"
    }
   ],
   "source": [
    "question_1_incorrect_vs_correct"
   ]
  },
  {
   "cell_type": "code",
   "execution_count": 37,
   "metadata": {
    "scrolled": true
   },
   "outputs": [
    {
     "data": {
      "image/png": "[encoded data removed]",
      "text/plain": [
       "<Figure size 432x288 with 1 Axes>"
      ]
     },
     "metadata": {},
     "output_type": "display_data"
    }
   ],
   "source": [
    "#PIE CHART How many people answer question 1 (at 2:30pm) correctly vs incorrectly\n",
    "answer_type = [\"Correct\", \"Incorrect\"]\n",
    "answer_count = [question_1_winner_count, question_1_incorrect_count]\n",
    "\n",
    "colors = ['yellowgreen', 'lightcoral']\n",
    "\n",
    "explode = (0, 0.2)\n",
    "\n",
    "plt.pie(answer_count, explode=explode, labels = answer_type, colors = colors, autopct=\"%1.1f%%\", shadow = False, startangle = 140)\n",
    "\n",
    "plt.axis(\"equal\")\n",
    "\n",
    "plt.title(\"% Correct vs Incorrect - Question 1\")\n",
    "\n",
    "plt.savefig('/Users/ncabayan/Desktop/final_project_stuff/Graphs/correct_vs_incorrect_question_1.png')\n",
    "plt.show()"
   ]
  },
  {
   "cell_type": "code",
   "execution_count": 38,
   "metadata": {},
   "outputs": [
    {
     "data": {
      "text/html": [
       "<div>\n",
       "<style scoped>\n",
       "    .dataframe tbody tr th:only-of-type {\n",
       "        vertical-align: middle;\n",
       "    }\n",
       "\n",
       "    .dataframe tbody tr th {\n",
       "        vertical-align: top;\n",
       "    }\n",
       "\n",
       "    .dataframe thead th {\n",
       "        text-align: right;\n",
       "    }\n",
       "</style>\n",
       "<table border=\"1\" class=\"dataframe\">\n",
       "  <thead>\n",
       "    <tr style=\"text-align: right;\">\n",
       "      <th></th>\n",
       "      <th>What dance did Ninja do to celebrate his first Battle Royale win?</th>\n",
       "      <th>WINNER ID 1</th>\n",
       "      <th>WINNER ID 2</th>\n",
       "      <th>VOTER ID 1</th>\n",
       "      <th>VOTER ID 2</th>\n",
       "    </tr>\n",
       "  </thead>\n",
       "  <tbody>\n",
       "    <tr>\n",
       "      <th>0</th>\n",
       "      <td>0. Pon Pon</td>\n",
       "      <td>43706293.0</td>\n",
       "      <td>1.546302e+09</td>\n",
       "      <td>251431221</td>\n",
       "      <td>1546302058</td>\n",
       "    </tr>\n",
       "    <tr>\n",
       "      <th>1</th>\n",
       "      <td>1. The Floss</td>\n",
       "      <td>202537117.0</td>\n",
       "      <td>1.546302e+09</td>\n",
       "      <td>185682707</td>\n",
       "      <td>1546302093</td>\n",
       "    </tr>\n",
       "    <tr>\n",
       "      <th>2</th>\n",
       "      <td>2. Gangnam Style</td>\n",
       "      <td>155350217.0</td>\n",
       "      <td>1.546302e+09</td>\n",
       "      <td>84631686</td>\n",
       "      <td>1546302089</td>\n",
       "    </tr>\n",
       "    <tr>\n",
       "      <th>3</th>\n",
       "      <td>3. Harlem Shake</td>\n",
       "      <td>207877456.0</td>\n",
       "      <td>1.546302e+09</td>\n",
       "      <td>198713893</td>\n",
       "      <td>1546302075</td>\n",
       "    </tr>\n",
       "    <tr>\n",
       "      <th>4</th>\n",
       "      <td>12/31/18 18:20</td>\n",
       "      <td>177034361.0</td>\n",
       "      <td>1.546302e+09</td>\n",
       "      <td>47631976</td>\n",
       "      <td>1546302076</td>\n",
       "    </tr>\n",
       "  </tbody>\n",
       "</table>\n",
       "</div>"
      ],
      "text/plain": [
       "  What dance did Ninja do to celebrate his first Battle Royale win?  \\\n",
       "0                                         0. Pon Pon                  \n",
       "1                                       1. The Floss                  \n",
       "2                                   2. Gangnam Style                  \n",
       "3                                    3. Harlem Shake                  \n",
       "4                                     12/31/18 18:20                  \n",
       "\n",
       "   WINNER ID 1   WINNER ID 2  VOTER ID 1  VOTER ID 2  \n",
       "0   43706293.0  1.546302e+09   251431221  1546302058  \n",
       "1  202537117.0  1.546302e+09   185682707  1546302093  \n",
       "2  155350217.0  1.546302e+09    84631686  1546302089  \n",
       "3  207877456.0  1.546302e+09   198713893  1546302075  \n",
       "4  177034361.0  1.546302e+09    47631976  1546302076  "
      ]
     },
     "execution_count": 38,
     "metadata": {},
     "output_type": "execute_result"
    }
   ],
   "source": [
    "#import question 2 csv\n",
    "question2_csv = '/Users/ncabayan/Desktop/final_project_stuff/ninja_twitch_csv/question_2_twitch.csv'\n",
    "question2_df = pd.read_csv(question2_csv, encoding = 'UTF-8')\n",
    "question2_df.head()"
   ]
  },
  {
   "cell_type": "code",
   "execution_count": 39,
   "metadata": {},
   "outputs": [],
   "source": [
    "question_2_vote_count = question2_df[\"VOTER ID 2\"].count()\n",
    "\n",
    "question_2_winner_count = question2_df[\"WINNER ID 1\"].count()\n",
    "\n",
    "question_2_incorrect_count = question_2_vote_count - question_2_winner_count \n",
    "\n",
    "question_2_stream_viewers = 186953\n",
    "\n",
    "question_2_engagement_rate = (question_2_vote_count/question_2_stream_viewers)*100"
   ]
  },
  {
   "cell_type": "code",
   "execution_count": 40,
   "metadata": {},
   "outputs": [
    {
     "data": {
      "text/html": [
       "<div>\n",
       "<style scoped>\n",
       "    .dataframe tbody tr th:only-of-type {\n",
       "        vertical-align: middle;\n",
       "    }\n",
       "\n",
       "    .dataframe tbody tr th {\n",
       "        vertical-align: top;\n",
       "    }\n",
       "\n",
       "    .dataframe thead th {\n",
       "        text-align: right;\n",
       "    }\n",
       "</style>\n",
       "<table border=\"1\" class=\"dataframe\">\n",
       "  <thead>\n",
       "    <tr style=\"text-align: right;\">\n",
       "      <th></th>\n",
       "      <th>Question 2: Total Votes</th>\n",
       "      <th>Question 2: Number of Questions Answered Correctly</th>\n",
       "      <th>Question 2: Number of Questions Answered Incorrectly</th>\n",
       "      <th>Question 2: Engagement Rate</th>\n",
       "      <th>Total Stream Viewers during Question 2</th>\n",
       "    </tr>\n",
       "  </thead>\n",
       "  <tbody>\n",
       "    <tr>\n",
       "      <th>0</th>\n",
       "      <td>10381</td>\n",
       "      <td>9378</td>\n",
       "      <td>1003</td>\n",
       "      <td>5.552733</td>\n",
       "      <td>186953</td>\n",
       "    </tr>\n",
       "  </tbody>\n",
       "</table>\n",
       "</div>"
      ],
      "text/plain": [
       "   Question 2: Total Votes  \\\n",
       "0                    10381   \n",
       "\n",
       "   Question 2: Number of Questions Answered Correctly  \\\n",
       "0                                               9378    \n",
       "\n",
       "   Question 2: Number of Questions Answered Incorrectly  \\\n",
       "0                                               1003      \n",
       "\n",
       "   Question 2: Engagement Rate  Total Stream Viewers during Question 2  \n",
       "0                     5.552733                                  186953  "
      ]
     },
     "execution_count": 40,
     "metadata": {},
     "output_type": "execute_result"
    }
   ],
   "source": [
    "question_2_table = pd.DataFrame ({\"Question 2: Total Votes\":[question_2_vote_count],\n",
    "                               \"Question 2: Number of Questions Answered Correctly\": [question_2_winner_count],\n",
    "                                \"Question 2: Number of Questions Answered Incorrectly\": [question_2_incorrect_count],\n",
    "                                  \"Question 2: Engagement Rate\": [question_2_engagement_rate],\n",
    "                              \"Total Stream Viewers during Question 2\": [question_2_stream_viewers]})\n",
    "question_2_table"
   ]
  },
  {
   "cell_type": "code",
   "execution_count": 41,
   "metadata": {},
   "outputs": [],
   "source": [
    "question_2_table[\"Question 2: Engagement Rate\"] = question_2_table[\"Question 2: Engagement Rate\"].map(\"{:,.2f}%\".format)"
   ]
  },
  {
   "cell_type": "code",
   "execution_count": 42,
   "metadata": {},
   "outputs": [
    {
     "data": {
      "text/html": [
       "<div>\n",
       "<style scoped>\n",
       "    .dataframe tbody tr th:only-of-type {\n",
       "        vertical-align: middle;\n",
       "    }\n",
       "\n",
       "    .dataframe tbody tr th {\n",
       "        vertical-align: top;\n",
       "    }\n",
       "\n",
       "    .dataframe thead th {\n",
       "        text-align: right;\n",
       "    }\n",
       "</style>\n",
       "<table border=\"1\" class=\"dataframe\">\n",
       "  <thead>\n",
       "    <tr style=\"text-align: right;\">\n",
       "      <th></th>\n",
       "      <th>Question 2: Total Votes</th>\n",
       "      <th>Question 2: Number of Questions Answered Correctly</th>\n",
       "      <th>Question 2: Number of Questions Answered Incorrectly</th>\n",
       "      <th>Question 2: Engagement Rate</th>\n",
       "      <th>Total Stream Viewers during Question 2</th>\n",
       "    </tr>\n",
       "  </thead>\n",
       "  <tbody>\n",
       "    <tr>\n",
       "      <th>0</th>\n",
       "      <td>10381</td>\n",
       "      <td>9378</td>\n",
       "      <td>1003</td>\n",
       "      <td>5.55%</td>\n",
       "      <td>186953</td>\n",
       "    </tr>\n",
       "  </tbody>\n",
       "</table>\n",
       "</div>"
      ],
      "text/plain": [
       "   Question 2: Total Votes  \\\n",
       "0                    10381   \n",
       "\n",
       "   Question 2: Number of Questions Answered Correctly  \\\n",
       "0                                               9378    \n",
       "\n",
       "   Question 2: Number of Questions Answered Incorrectly  \\\n",
       "0                                               1003      \n",
       "\n",
       "  Question 2: Engagement Rate  Total Stream Viewers during Question 2  \n",
       "0                       5.55%                                  186953  "
      ]
     },
     "execution_count": 42,
     "metadata": {},
     "output_type": "execute_result"
    }
   ],
   "source": [
    "question_2_table"
   ]
  },
  {
   "cell_type": "code",
   "execution_count": 43,
   "metadata": {},
   "outputs": [
    {
     "data": {
      "image/png": "[encoded data removed]",
      "text/plain": [
       "<Figure size 432x288 with 1 Axes>"
      ]
     },
     "metadata": {},
     "output_type": "display_data"
    }
   ],
   "source": [
    "#PIE CHART How many people answer question 2 (at 4:30pm) correctly vs incorrectly\n",
    "answer_type = [\"Correct\", \"Incorrect\"]\n",
    "answer_count = [question_2_winner_count, question_2_incorrect_count]\n",
    "\n",
    "colors = ['yellowgreen', 'lightcoral']\n",
    "\n",
    "explode = (0, 0.2)\n",
    "\n",
    "plt.pie(answer_count, explode=explode, labels = answer_type, colors = colors, autopct=\"%1.1f%%\", shadow = False, startangle = 140)\n",
    "\n",
    "plt.axis(\"equal\")\n",
    "\n",
    "plt.title(\"% Correct vs Incorrect - Question 2\")\n",
    "\n",
    "plt.savefig('/Users/ncabayan/Desktop/final_project_stuff/Graphs/correct_vs_incorrect_question_2.png')\n",
    "plt.show()"
   ]
  },
  {
   "cell_type": "code",
   "execution_count": 44,
   "metadata": {},
   "outputs": [
    {
     "data": {
      "text/html": [
       "<div>\n",
       "<style scoped>\n",
       "    .dataframe tbody tr th:only-of-type {\n",
       "        vertical-align: middle;\n",
       "    }\n",
       "\n",
       "    .dataframe tbody tr th {\n",
       "        vertical-align: top;\n",
       "    }\n",
       "\n",
       "    .dataframe thead th {\n",
       "        text-align: right;\n",
       "    }\n",
       "</style>\n",
       "<table border=\"1\" class=\"dataframe\">\n",
       "  <thead>\n",
       "    <tr style=\"text-align: right;\">\n",
       "      <th></th>\n",
       "      <th>What are the three animal statues scattered across Fortnite?</th>\n",
       "      <th>Winner ID 1</th>\n",
       "      <th>Winner ID 2</th>\n",
       "      <th>VOTER ID 1</th>\n",
       "      <th>VOTER ID 2</th>\n",
       "    </tr>\n",
       "  </thead>\n",
       "  <tbody>\n",
       "    <tr>\n",
       "      <th>0</th>\n",
       "      <td>0. Llama, Corgi, Lobster</td>\n",
       "      <td>14110722.0</td>\n",
       "      <td>1.546323e+09</td>\n",
       "      <td>197025125</td>\n",
       "      <td>1546322913</td>\n",
       "    </tr>\n",
       "    <tr>\n",
       "      <th>1</th>\n",
       "      <td>1. Llama, Fox, Crab</td>\n",
       "      <td>41654863.0</td>\n",
       "      <td>1.546323e+09</td>\n",
       "      <td>54522416</td>\n",
       "      <td>1546322845</td>\n",
       "    </tr>\n",
       "    <tr>\n",
       "      <th>2</th>\n",
       "      <td>2. Camel, Fox, Crab</td>\n",
       "      <td>222677677.0</td>\n",
       "      <td>1.546323e+09</td>\n",
       "      <td>166258169</td>\n",
       "      <td>1546322848</td>\n",
       "    </tr>\n",
       "    <tr>\n",
       "      <th>3</th>\n",
       "      <td>3. Camel, Corgi, Lobster</td>\n",
       "      <td>73694856.0</td>\n",
       "      <td>1.546323e+09</td>\n",
       "      <td>404563984</td>\n",
       "      <td>1546322889</td>\n",
       "    </tr>\n",
       "    <tr>\n",
       "      <th>4</th>\n",
       "      <td>1/1/19 0:07</td>\n",
       "      <td>202314089.0</td>\n",
       "      <td>1.546323e+09</td>\n",
       "      <td>176528519</td>\n",
       "      <td>1546322904</td>\n",
       "    </tr>\n",
       "  </tbody>\n",
       "</table>\n",
       "</div>"
      ],
      "text/plain": [
       "  What are the three animal statues scattered across Fortnite?  Winner ID 1  \\\n",
       "0                           0. Llama, Corgi, Lobster             14110722.0   \n",
       "1                                1. Llama, Fox, Crab             41654863.0   \n",
       "2                                2. Camel, Fox, Crab            222677677.0   \n",
       "3                           3. Camel, Corgi, Lobster             73694856.0   \n",
       "4                                        1/1/19 0:07            202314089.0   \n",
       "\n",
       "    Winner ID 2  VOTER ID 1  VOTER ID 2  \n",
       "0  1.546323e+09   197025125  1546322913  \n",
       "1  1.546323e+09    54522416  1546322845  \n",
       "2  1.546323e+09   166258169  1546322848  \n",
       "3  1.546323e+09   404563984  1546322889  \n",
       "4  1.546323e+09   176528519  1546322904  "
      ]
     },
     "execution_count": 44,
     "metadata": {},
     "output_type": "execute_result"
    }
   ],
   "source": [
    "#import question 3 csv\n",
    "question3_csv = '/Users/ncabayan/Desktop/final_project_stuff/ninja_twitch_csv/question_3_twitch.csv'\n",
    "question3_df = pd.read_csv(question3_csv, encoding = 'UTF-8')\n",
    "\n",
    "question3_df = question3_df.rename(columns = {\"Voter ID 1\":\"VOTER ID 1\",\"Voter ID 2\":\"VOTER ID 2\"\n",
    "                                             })\n",
    "question3_df.head()"
   ]
  },
  {
   "cell_type": "code",
   "execution_count": 45,
   "metadata": {},
   "outputs": [
    {
     "data": {
      "text/html": [
       "<div>\n",
       "<style scoped>\n",
       "    .dataframe tbody tr th:only-of-type {\n",
       "        vertical-align: middle;\n",
       "    }\n",
       "\n",
       "    .dataframe tbody tr th {\n",
       "        vertical-align: top;\n",
       "    }\n",
       "\n",
       "    .dataframe thead th {\n",
       "        text-align: right;\n",
       "    }\n",
       "</style>\n",
       "<table border=\"1\" class=\"dataframe\">\n",
       "  <thead>\n",
       "    <tr style=\"text-align: right;\">\n",
       "      <th></th>\n",
       "      <th>Pacific Standard Time</th>\n",
       "      <th>Total Views</th>\n",
       "      <th>Stream Viewers</th>\n",
       "    </tr>\n",
       "  </thead>\n",
       "  <tbody>\n",
       "    <tr>\n",
       "      <th>0</th>\n",
       "      <td>12:23 PM</td>\n",
       "      <td>393500921</td>\n",
       "      <td>NaN</td>\n",
       "    </tr>\n",
       "    <tr>\n",
       "      <th>1</th>\n",
       "      <td>1:23 PM</td>\n",
       "      <td>393509466</td>\n",
       "      <td>122861.0</td>\n",
       "    </tr>\n",
       "    <tr>\n",
       "      <th>2</th>\n",
       "      <td>2:23 PM</td>\n",
       "      <td>394005259</td>\n",
       "      <td>148687.0</td>\n",
       "    </tr>\n",
       "    <tr>\n",
       "      <th>3</th>\n",
       "      <td>3:23 PM</td>\n",
       "      <td>394294748</td>\n",
       "      <td>175163.0</td>\n",
       "    </tr>\n",
       "    <tr>\n",
       "      <th>4</th>\n",
       "      <td>4:23 PM</td>\n",
       "      <td>394710151</td>\n",
       "      <td>186953.0</td>\n",
       "    </tr>\n",
       "    <tr>\n",
       "      <th>5</th>\n",
       "      <td>5:23 PM</td>\n",
       "      <td>395019218</td>\n",
       "      <td>190954.0</td>\n",
       "    </tr>\n",
       "    <tr>\n",
       "      <th>6</th>\n",
       "      <td>6:23 PM</td>\n",
       "      <td>395455032</td>\n",
       "      <td>138772.0</td>\n",
       "    </tr>\n",
       "    <tr>\n",
       "      <th>7</th>\n",
       "      <td>7:23 PM</td>\n",
       "      <td>395705528</td>\n",
       "      <td>142017.0</td>\n",
       "    </tr>\n",
       "    <tr>\n",
       "      <th>8</th>\n",
       "      <td>8:23 PM</td>\n",
       "      <td>396024213</td>\n",
       "      <td>175028.0</td>\n",
       "    </tr>\n",
       "    <tr>\n",
       "      <th>9</th>\n",
       "      <td>9:23 PM</td>\n",
       "      <td>396357748</td>\n",
       "      <td>150747.0</td>\n",
       "    </tr>\n",
       "    <tr>\n",
       "      <th>10</th>\n",
       "      <td>10:23 PM</td>\n",
       "      <td>396615944</td>\n",
       "      <td>116931.0</td>\n",
       "    </tr>\n",
       "    <tr>\n",
       "      <th>11</th>\n",
       "      <td>11:23 PM</td>\n",
       "      <td>396902582</td>\n",
       "      <td>92230.0</td>\n",
       "    </tr>\n",
       "    <tr>\n",
       "      <th>12</th>\n",
       "      <td>12:23 AM</td>\n",
       "      <td>397052498</td>\n",
       "      <td>89641.0</td>\n",
       "    </tr>\n",
       "    <tr>\n",
       "      <th>13</th>\n",
       "      <td>1:23 AM</td>\n",
       "      <td>397169436</td>\n",
       "      <td>NaN</td>\n",
       "    </tr>\n",
       "  </tbody>\n",
       "</table>\n",
       "</div>"
      ],
      "text/plain": [
       "   Pacific Standard Time  Total Views  Stream Viewers\n",
       "0               12:23 PM    393500921             NaN\n",
       "1                1:23 PM    393509466        122861.0\n",
       "2                2:23 PM    394005259        148687.0\n",
       "3                3:23 PM    394294748        175163.0\n",
       "4                4:23 PM    394710151        186953.0\n",
       "5                5:23 PM    395019218        190954.0\n",
       "6                6:23 PM    395455032        138772.0\n",
       "7                7:23 PM    395705528        142017.0\n",
       "8                8:23 PM    396024213        175028.0\n",
       "9                9:23 PM    396357748        150747.0\n",
       "10              10:23 PM    396615944        116931.0\n",
       "11              11:23 PM    396902582         92230.0\n",
       "12              12:23 AM    397052498         89641.0\n",
       "13               1:23 AM    397169436             NaN"
      ]
     },
     "execution_count": 45,
     "metadata": {},
     "output_type": "execute_result"
    }
   ],
   "source": [
    "ninja_scrape = ninja_scrape_edited_df.rename(columns = {\"time\":\"Pacific Standard Time\",\"total_views\":\"Total Views\", \"stream_viewers\":\"Stream Viewers\"})\n",
    "ninja_scrape"
   ]
  },
  {
   "cell_type": "code",
   "execution_count": 46,
   "metadata": {},
   "outputs": [],
   "source": [
    "question_3_vote_count = question3_df[\"VOTER ID 2\"].count()\n",
    "\n",
    "question_3_winner_count = question3_df[\"Winner ID 1\"].count()\n",
    "\n",
    "question_3_incorrect_count = question_3_vote_count - question_3_winner_count \n",
    "\n",
    "question_3_stream_viewers = 175028\n",
    "\n",
    "question_3_engagement_rate = (question_3_vote_count/question_3_stream_viewers)*100"
   ]
  },
  {
   "cell_type": "code",
   "execution_count": 47,
   "metadata": {},
   "outputs": [
    {
     "data": {
      "text/html": [
       "<div>\n",
       "<style scoped>\n",
       "    .dataframe tbody tr th:only-of-type {\n",
       "        vertical-align: middle;\n",
       "    }\n",
       "\n",
       "    .dataframe tbody tr th {\n",
       "        vertical-align: top;\n",
       "    }\n",
       "\n",
       "    .dataframe thead th {\n",
       "        text-align: right;\n",
       "    }\n",
       "</style>\n",
       "<table border=\"1\" class=\"dataframe\">\n",
       "  <thead>\n",
       "    <tr style=\"text-align: right;\">\n",
       "      <th></th>\n",
       "      <th>Question 3: Total Votes</th>\n",
       "      <th>Question 3: Number of Questions Answered Correctly</th>\n",
       "      <th>Question 3: Number of Questions Answered Incorrectly</th>\n",
       "      <th>Question 3: Engagement Rate</th>\n",
       "      <th>Total Stream Viewers during Question 3</th>\n",
       "    </tr>\n",
       "  </thead>\n",
       "  <tbody>\n",
       "    <tr>\n",
       "      <th>0</th>\n",
       "      <td>4276</td>\n",
       "      <td>3578</td>\n",
       "      <td>698</td>\n",
       "      <td>2.443038</td>\n",
       "      <td>175028</td>\n",
       "    </tr>\n",
       "  </tbody>\n",
       "</table>\n",
       "</div>"
      ],
      "text/plain": [
       "   Question 3: Total Votes  \\\n",
       "0                     4276   \n",
       "\n",
       "   Question 3: Number of Questions Answered Correctly  \\\n",
       "0                                               3578    \n",
       "\n",
       "   Question 3: Number of Questions Answered Incorrectly  \\\n",
       "0                                                698      \n",
       "\n",
       "   Question 3: Engagement Rate  Total Stream Viewers during Question 3  \n",
       "0                     2.443038                                  175028  "
      ]
     },
     "execution_count": 47,
     "metadata": {},
     "output_type": "execute_result"
    }
   ],
   "source": [
    "question_3_table = pd.DataFrame ({\"Question 3: Total Votes\":[question_3_vote_count],\n",
    "                               \"Question 3: Number of Questions Answered Correctly\": [question_3_winner_count],\n",
    "                                \"Question 3: Number of Questions Answered Incorrectly\": [question_3_incorrect_count],\n",
    "                                  \"Question 3: Engagement Rate\": [question_3_engagement_rate],\n",
    "                              \"Total Stream Viewers during Question 3\": [question_3_stream_viewers]})\n",
    "question_3_table"
   ]
  },
  {
   "cell_type": "code",
   "execution_count": 48,
   "metadata": {},
   "outputs": [],
   "source": [
    "question_3_table[\"Question 3: Engagement Rate\"] = question_3_table[\"Question 3: Engagement Rate\"].map(\"{:,.2f}%\".format)"
   ]
  },
  {
   "cell_type": "code",
   "execution_count": 49,
   "metadata": {},
   "outputs": [
    {
     "data": {
      "text/html": [
       "<div>\n",
       "<style scoped>\n",
       "    .dataframe tbody tr th:only-of-type {\n",
       "        vertical-align: middle;\n",
       "    }\n",
       "\n",
       "    .dataframe tbody tr th {\n",
       "        vertical-align: top;\n",
       "    }\n",
       "\n",
       "    .dataframe thead th {\n",
       "        text-align: right;\n",
       "    }\n",
       "</style>\n",
       "<table border=\"1\" class=\"dataframe\">\n",
       "  <thead>\n",
       "    <tr style=\"text-align: right;\">\n",
       "      <th></th>\n",
       "      <th>Question 3: Total Votes</th>\n",
       "      <th>Question 3: Number of Questions Answered Correctly</th>\n",
       "      <th>Question 3: Number of Questions Answered Incorrectly</th>\n",
       "      <th>Question 3: Engagement Rate</th>\n",
       "      <th>Total Stream Viewers during Question 3</th>\n",
       "    </tr>\n",
       "  </thead>\n",
       "  <tbody>\n",
       "    <tr>\n",
       "      <th>0</th>\n",
       "      <td>4276</td>\n",
       "      <td>3578</td>\n",
       "      <td>698</td>\n",
       "      <td>2.44%</td>\n",
       "      <td>175028</td>\n",
       "    </tr>\n",
       "  </tbody>\n",
       "</table>\n",
       "</div>"
      ],
      "text/plain": [
       "   Question 3: Total Votes  \\\n",
       "0                     4276   \n",
       "\n",
       "   Question 3: Number of Questions Answered Correctly  \\\n",
       "0                                               3578    \n",
       "\n",
       "   Question 3: Number of Questions Answered Incorrectly  \\\n",
       "0                                                698      \n",
       "\n",
       "  Question 3: Engagement Rate  Total Stream Viewers during Question 3  \n",
       "0                       2.44%                                  175028  "
      ]
     },
     "execution_count": 49,
     "metadata": {},
     "output_type": "execute_result"
    }
   ],
   "source": [
    "question_3_table"
   ]
  },
  {
   "cell_type": "code",
   "execution_count": 50,
   "metadata": {},
   "outputs": [
    {
     "data": {
      "image/png": "[encoded data removed]",
      "text/plain": [
       "<Figure size 432x288 with 1 Axes>"
      ]
     },
     "metadata": {},
     "output_type": "display_data"
    }
   ],
   "source": [
    "#PIE CHART How many people answer question 3 (at 8:30pm) correctly vs incorrectly\n",
    "answer_type = [\"Correct\", \"Incorrect\"]\n",
    "answer_count = [question_3_winner_count, question_3_incorrect_count]\n",
    "\n",
    "colors = ['yellowgreen', 'lightcoral']\n",
    "\n",
    "explode = (0, 0.2)\n",
    "\n",
    "plt.pie(answer_count, explode=explode, labels = answer_type, colors = colors, autopct=\"%1.1f%%\", shadow = False, startangle = 140)\n",
    "\n",
    "plt.axis(\"equal\")\n",
    "\n",
    "plt.title(\"% Correct vs Incorrect - Question 3\")\n",
    "\n",
    "plt.savefig('/Users/ncabayan/Desktop/final_project_stuff/Graphs/correct_vs_incorrect_question_3.png')\n",
    "plt.show()"
   ]
  },
  {
   "cell_type": "code",
   "execution_count": 51,
   "metadata": {},
   "outputs": [
    {
     "data": {
      "text/html": [
       "<div>\n",
       "<style scoped>\n",
       "    .dataframe tbody tr th:only-of-type {\n",
       "        vertical-align: middle;\n",
       "    }\n",
       "\n",
       "    .dataframe tbody tr th {\n",
       "        vertical-align: top;\n",
       "    }\n",
       "\n",
       "    .dataframe thead th {\n",
       "        text-align: right;\n",
       "    }\n",
       "</style>\n",
       "<table border=\"1\" class=\"dataframe\">\n",
       "  <thead>\n",
       "    <tr style=\"text-align: right;\">\n",
       "      <th></th>\n",
       "      <th>On March 14 2018  Ninja set a record for all time single player stream viewership while playing Fortnite with whom?</th>\n",
       "      <th>Winner Id 1</th>\n",
       "      <th>Winner ID 2</th>\n",
       "      <th>VOTER ID 1</th>\n",
       "      <th>VOTER ID 2</th>\n",
       "    </tr>\n",
       "  </thead>\n",
       "  <tbody>\n",
       "    <tr>\n",
       "      <th>0</th>\n",
       "      <td>0. Jay-Z</td>\n",
       "      <td>241917924.0</td>\n",
       "      <td>1.546330e+09</td>\n",
       "      <td>101244018</td>\n",
       "      <td>1546329938</td>\n",
       "    </tr>\n",
       "    <tr>\n",
       "      <th>1</th>\n",
       "      <td>1. Drake</td>\n",
       "      <td>113319906.0</td>\n",
       "      <td>1.546330e+09</td>\n",
       "      <td>149125</td>\n",
       "      <td>1546329927</td>\n",
       "    </tr>\n",
       "    <tr>\n",
       "      <th>2</th>\n",
       "      <td>2. Marshmello</td>\n",
       "      <td>238913683.0</td>\n",
       "      <td>1.546330e+09</td>\n",
       "      <td>168066703</td>\n",
       "      <td>1546329965</td>\n",
       "    </tr>\n",
       "    <tr>\n",
       "      <th>3</th>\n",
       "      <td>3. Kendrick Lamar</td>\n",
       "      <td>215720112.0</td>\n",
       "      <td>1.546330e+09</td>\n",
       "      <td>174308167</td>\n",
       "      <td>1546329939</td>\n",
       "    </tr>\n",
       "    <tr>\n",
       "      <th>4</th>\n",
       "      <td>1/1/19 2:04</td>\n",
       "      <td>140623117.0</td>\n",
       "      <td>1.546330e+09</td>\n",
       "      <td>184561820</td>\n",
       "      <td>1546329904</td>\n",
       "    </tr>\n",
       "  </tbody>\n",
       "</table>\n",
       "</div>"
      ],
      "text/plain": [
       "  On March 14 2018  Ninja set a record for all time single player stream viewership while playing Fortnite with whom?  \\\n",
       "0                                           0. Jay-Z                                                                    \n",
       "1                                           1. Drake                                                                    \n",
       "2                                      2. Marshmello                                                                    \n",
       "3                                  3. Kendrick Lamar                                                                    \n",
       "4                                        1/1/19 2:04                                                                    \n",
       "\n",
       "   Winner Id 1   Winner ID 2  VOTER ID 1  VOTER ID 2  \n",
       "0  241917924.0  1.546330e+09   101244018  1546329938  \n",
       "1  113319906.0  1.546330e+09      149125  1546329927  \n",
       "2  238913683.0  1.546330e+09   168066703  1546329965  \n",
       "3  215720112.0  1.546330e+09   174308167  1546329939  \n",
       "4  140623117.0  1.546330e+09   184561820  1546329904  "
      ]
     },
     "execution_count": 51,
     "metadata": {},
     "output_type": "execute_result"
    }
   ],
   "source": [
    "#import question 4 csv\n",
    "question4_csv = '/Users/ncabayan/Desktop/final_project_stuff/ninja_twitch_csv/question_4_twitch.csv'\n",
    "question4_df = pd.read_csv(question4_csv, encoding = 'UTF-8')\n",
    "\n",
    "question4_df = question4_df.rename(columns = {\"Voter ID 1 \":\"VOTER ID 1\",\"Voter ID 2\":\"VOTER ID 2\"\n",
    "                                             })\n",
    "question4_df.head()"
   ]
  },
  {
   "cell_type": "code",
   "execution_count": 52,
   "metadata": {},
   "outputs": [
    {
     "data": {
      "text/plain": [
       "['On March 14 2018  Ninja set a record for all time single player stream viewership while playing Fortnite with whom?',\n",
       " 'Winner Id 1',\n",
       " 'Winner ID 2',\n",
       " 'VOTER ID 1',\n",
       " 'VOTER ID 2']"
      ]
     },
     "execution_count": 52,
     "metadata": {},
     "output_type": "execute_result"
    }
   ],
   "source": [
    "list(question4_df.columns.values)"
   ]
  },
  {
   "cell_type": "code",
   "execution_count": 53,
   "metadata": {},
   "outputs": [],
   "source": [
    "question_4_vote_count = question4_df[\"VOTER ID 2\"].count()\n",
    "\n",
    "question_4_winner_count = question4_df[\"Winner ID 2\"].count()\n",
    "\n",
    "question_4_incorrect_count = question_4_vote_count - question_4_winner_count \n",
    "\n",
    "question_4_stream_viewers = 89641\n",
    "\n",
    "question_4_engagement_rate = (question_4_vote_count/question_4_stream_viewers)*100\n"
   ]
  },
  {
   "cell_type": "code",
   "execution_count": 54,
   "metadata": {},
   "outputs": [
    {
     "data": {
      "text/html": [
       "<div>\n",
       "<style scoped>\n",
       "    .dataframe tbody tr th:only-of-type {\n",
       "        vertical-align: middle;\n",
       "    }\n",
       "\n",
       "    .dataframe tbody tr th {\n",
       "        vertical-align: top;\n",
       "    }\n",
       "\n",
       "    .dataframe thead th {\n",
       "        text-align: right;\n",
       "    }\n",
       "</style>\n",
       "<table border=\"1\" class=\"dataframe\">\n",
       "  <thead>\n",
       "    <tr style=\"text-align: right;\">\n",
       "      <th></th>\n",
       "      <th>Question 4: Total Votes</th>\n",
       "      <th>Question 4: Number of Questions Answered Correctly</th>\n",
       "      <th>Question 4: Number of Questions Answered Incorrectly</th>\n",
       "      <th>Question 4: Engagement Rate</th>\n",
       "      <th>Total Stream Viewers during Question 4</th>\n",
       "    </tr>\n",
       "  </thead>\n",
       "  <tbody>\n",
       "    <tr>\n",
       "      <th>0</th>\n",
       "      <td>3310</td>\n",
       "      <td>3200</td>\n",
       "      <td>110</td>\n",
       "      <td>3.692507</td>\n",
       "      <td>89641</td>\n",
       "    </tr>\n",
       "  </tbody>\n",
       "</table>\n",
       "</div>"
      ],
      "text/plain": [
       "   Question 4: Total Votes  \\\n",
       "0                     3310   \n",
       "\n",
       "   Question 4: Number of Questions Answered Correctly  \\\n",
       "0                                               3200    \n",
       "\n",
       "   Question 4: Number of Questions Answered Incorrectly  \\\n",
       "0                                                110      \n",
       "\n",
       "   Question 4: Engagement Rate  Total Stream Viewers during Question 4  \n",
       "0                     3.692507                                   89641  "
      ]
     },
     "execution_count": 54,
     "metadata": {},
     "output_type": "execute_result"
    }
   ],
   "source": [
    "question_4_table = pd.DataFrame ({\"Question 4: Total Votes\":[question_4_vote_count],\n",
    "                               \"Question 4: Number of Questions Answered Correctly\": [question_4_winner_count],\n",
    "                                \"Question 4: Number of Questions Answered Incorrectly\": [question_4_incorrect_count],\n",
    "                                  \"Question 4: Engagement Rate\": [question_4_engagement_rate],\n",
    "                              \"Total Stream Viewers during Question 4\": [question_4_stream_viewers]})\n",
    "question_4_table"
   ]
  },
  {
   "cell_type": "code",
   "execution_count": 55,
   "metadata": {},
   "outputs": [],
   "source": [
    "question_4_table[\"Question 4: Engagement Rate\"] = question_4_table[\"Question 4: Engagement Rate\"].map(\"{:,.2f}%\".format)"
   ]
  },
  {
   "cell_type": "code",
   "execution_count": 56,
   "metadata": {},
   "outputs": [
    {
     "data": {
      "text/html": [
       "<div>\n",
       "<style scoped>\n",
       "    .dataframe tbody tr th:only-of-type {\n",
       "        vertical-align: middle;\n",
       "    }\n",
       "\n",
       "    .dataframe tbody tr th {\n",
       "        vertical-align: top;\n",
       "    }\n",
       "\n",
       "    .dataframe thead th {\n",
       "        text-align: right;\n",
       "    }\n",
       "</style>\n",
       "<table border=\"1\" class=\"dataframe\">\n",
       "  <thead>\n",
       "    <tr style=\"text-align: right;\">\n",
       "      <th></th>\n",
       "      <th>Question 4: Total Votes</th>\n",
       "      <th>Question 4: Number of Questions Answered Correctly</th>\n",
       "      <th>Question 4: Number of Questions Answered Incorrectly</th>\n",
       "      <th>Question 4: Engagement Rate</th>\n",
       "      <th>Total Stream Viewers during Question 4</th>\n",
       "    </tr>\n",
       "  </thead>\n",
       "  <tbody>\n",
       "    <tr>\n",
       "      <th>0</th>\n",
       "      <td>3310</td>\n",
       "      <td>3200</td>\n",
       "      <td>110</td>\n",
       "      <td>3.69%</td>\n",
       "      <td>89641</td>\n",
       "    </tr>\n",
       "  </tbody>\n",
       "</table>\n",
       "</div>"
      ],
      "text/plain": [
       "   Question 4: Total Votes  \\\n",
       "0                     3310   \n",
       "\n",
       "   Question 4: Number of Questions Answered Correctly  \\\n",
       "0                                               3200    \n",
       "\n",
       "   Question 4: Number of Questions Answered Incorrectly  \\\n",
       "0                                                110      \n",
       "\n",
       "  Question 4: Engagement Rate  Total Stream Viewers during Question 4  \n",
       "0                       3.69%                                   89641  "
      ]
     },
     "execution_count": 56,
     "metadata": {},
     "output_type": "execute_result"
    }
   ],
   "source": [
    "question_4_table"
   ]
  },
  {
   "cell_type": "code",
   "execution_count": 57,
   "metadata": {},
   "outputs": [
    {
     "data": {
      "image/png": "[encoded data removed]",
      "text/plain": [
       "<Figure size 432x288 with 1 Axes>"
      ]
     },
     "metadata": {},
     "output_type": "display_data"
    }
   ],
   "source": [
    "#PIE CHART How many people answer question 4 (at 12:30am) correctly vs incorrectly\n",
    "answer_type = [\"Correct\", \"Incorrect\"]\n",
    "answer_count = [question_4_winner_count, question_4_incorrect_count]\n",
    "\n",
    "colors = ['yellowgreen', 'lightcoral']\n",
    "\n",
    "explode = (0, 0.2)\n",
    "\n",
    "plt.pie(answer_count, explode=explode, labels = answer_type, colors = colors, autopct=\"%1.1f%%\", shadow = False, startangle = 140)\n",
    "\n",
    "plt.axis(\"equal\")\n",
    "\n",
    "plt.title(\"% Correct vs Incorrect - Question 4\")\n",
    "\n",
    "plt.savefig('/Users/ncabayan/Desktop/final_project_stuff/Graphs/correct_vs_incorrect_question_4.png')\n",
    "plt.show()"
   ]
  },
  {
   "cell_type": "code",
   "execution_count": 58,
   "metadata": {},
   "outputs": [
    {
     "data": {
      "text/html": [
       "<div>\n",
       "<style scoped>\n",
       "    .dataframe tbody tr th:only-of-type {\n",
       "        vertical-align: middle;\n",
       "    }\n",
       "\n",
       "    .dataframe tbody tr th {\n",
       "        vertical-align: top;\n",
       "    }\n",
       "\n",
       "    .dataframe thead th {\n",
       "        text-align: right;\n",
       "    }\n",
       "</style>\n",
       "<table border=\"1\" class=\"dataframe\">\n",
       "  <thead>\n",
       "    <tr style=\"text-align: right;\">\n",
       "      <th></th>\n",
       "      <th>What was the first 'vehicle' introduced to Fortnite?</th>\n",
       "      <th>Winner ID 1</th>\n",
       "      <th>Winner ID 2</th>\n",
       "      <th>VOTER ID 1</th>\n",
       "      <th>Voter ID 2</th>\n",
       "      <th>What dance did Ninja do to celebrate his first Battle Royale win?</th>\n",
       "      <th>WINNER ID 1</th>\n",
       "      <th>WINNER ID 2</th>\n",
       "      <th>VOTER ID 2</th>\n",
       "    </tr>\n",
       "  </thead>\n",
       "  <tbody>\n",
       "    <tr>\n",
       "      <th>0</th>\n",
       "      <td>1. All Terrante Kart</td>\n",
       "      <td>93088786.0</td>\n",
       "      <td>1.546294e+09</td>\n",
       "      <td>20985391</td>\n",
       "      <td>1546294296</td>\n",
       "      <td>NaN</td>\n",
       "      <td>196948895.0</td>\n",
       "      <td>1.546302e+09</td>\n",
       "      <td>1546302060</td>\n",
       "    </tr>\n",
       "    <tr>\n",
       "      <th>1</th>\n",
       "      <td>2. Quadcrasher</td>\n",
       "      <td>146065234.0</td>\n",
       "      <td>1.546294e+09</td>\n",
       "      <td>114200165</td>\n",
       "      <td>1546294307</td>\n",
       "      <td>NaN</td>\n",
       "      <td>121534302.0</td>\n",
       "      <td>1.546302e+09</td>\n",
       "      <td>1546302057</td>\n",
       "    </tr>\n",
       "    <tr>\n",
       "      <th>2</th>\n",
       "      <td>NaN</td>\n",
       "      <td>41383663.0</td>\n",
       "      <td>1.546294e+09</td>\n",
       "      <td>32170860</td>\n",
       "      <td>1546294336</td>\n",
       "      <td>NaN</td>\n",
       "      <td>200927108.0</td>\n",
       "      <td>1.546302e+09</td>\n",
       "      <td>1546302089</td>\n",
       "    </tr>\n",
       "    <tr>\n",
       "      <th>3</th>\n",
       "      <td>NaN</td>\n",
       "      <td>127757828.0</td>\n",
       "      <td>1.546294e+09</td>\n",
       "      <td>280488184</td>\n",
       "      <td>1546294336</td>\n",
       "      <td>NaN</td>\n",
       "      <td>126781327.0</td>\n",
       "      <td>1.546302e+09</td>\n",
       "      <td>1546302060</td>\n",
       "    </tr>\n",
       "    <tr>\n",
       "      <th>4</th>\n",
       "      <td>NaN</td>\n",
       "      <td>37820317.0</td>\n",
       "      <td>1.546294e+09</td>\n",
       "      <td>237640402</td>\n",
       "      <td>1546294301</td>\n",
       "      <td>NaN</td>\n",
       "      <td>208682191.0</td>\n",
       "      <td>1.546302e+09</td>\n",
       "      <td>1546302078</td>\n",
       "    </tr>\n",
       "  </tbody>\n",
       "</table>\n",
       "</div>"
      ],
      "text/plain": [
       "  What was the first 'vehicle' introduced to Fortnite?  Winner ID 1  \\\n",
       "0                               1. All Terrante Kart     93088786.0   \n",
       "1                                     2. Quadcrasher    146065234.0   \n",
       "2                                                NaN     41383663.0   \n",
       "3                                                NaN    127757828.0   \n",
       "4                                                NaN     37820317.0   \n",
       "\n",
       "    Winner ID 2  VOTER ID 1  Voter ID 2  \\\n",
       "0  1.546294e+09    20985391  1546294296   \n",
       "1  1.546294e+09   114200165  1546294307   \n",
       "2  1.546294e+09    32170860  1546294336   \n",
       "3  1.546294e+09   280488184  1546294336   \n",
       "4  1.546294e+09   237640402  1546294301   \n",
       "\n",
       "  What dance did Ninja do to celebrate his first Battle Royale win?  \\\n",
       "0                                                NaN                  \n",
       "1                                                NaN                  \n",
       "2                                                NaN                  \n",
       "3                                                NaN                  \n",
       "4                                                NaN                  \n",
       "\n",
       "   WINNER ID 1   WINNER ID 2  VOTER ID 2  \n",
       "0  196948895.0  1.546302e+09  1546302060  \n",
       "1  121534302.0  1.546302e+09  1546302057  \n",
       "2  200927108.0  1.546302e+09  1546302089  \n",
       "3  126781327.0  1.546302e+09  1546302060  \n",
       "4  208682191.0  1.546302e+09  1546302078  "
      ]
     },
     "execution_count": 58,
     "metadata": {},
     "output_type": "execute_result"
    }
   ],
   "source": [
    "# Combine the data into a single dataset\n",
    "trivia_question_merged_data_1 = pd.merge(question1_df,question2_df, on=\"VOTER ID 1\")\n",
    "\n",
    "# Display the data table for preview\n",
    "trivia_question_merged_data_1.head()"
   ]
  },
  {
   "cell_type": "code",
   "execution_count": 59,
   "metadata": {},
   "outputs": [
    {
     "name": "stdout",
     "output_type": "stream",
     "text": [
      "The number of voters that voted for question 1 and then voted for question 2 is 2917\n"
     ]
    }
   ],
   "source": [
    "merged_vote_count_question_1_and_2 = trivia_question_merged_data_1[\"VOTER ID 1\"].count()\n",
    "\n",
    "print(f\"The number of voters that voted for question 1 and then voted for question 2 is {merged_vote_count_question_1_and_2}\")"
   ]
  },
  {
   "cell_type": "code",
   "execution_count": 60,
   "metadata": {},
   "outputs": [
    {
     "data": {
      "text/html": [
       "<div>\n",
       "<style scoped>\n",
       "    .dataframe tbody tr th:only-of-type {\n",
       "        vertical-align: middle;\n",
       "    }\n",
       "\n",
       "    .dataframe tbody tr th {\n",
       "        vertical-align: top;\n",
       "    }\n",
       "\n",
       "    .dataframe thead th {\n",
       "        text-align: right;\n",
       "    }\n",
       "</style>\n",
       "<table border=\"1\" class=\"dataframe\">\n",
       "  <thead>\n",
       "    <tr style=\"text-align: right;\">\n",
       "      <th></th>\n",
       "      <th>What dance did Ninja do to celebrate his first Battle Royale win?</th>\n",
       "      <th>WINNER ID 1</th>\n",
       "      <th>WINNER ID 2</th>\n",
       "      <th>VOTER ID 1</th>\n",
       "      <th>VOTER ID 2_x</th>\n",
       "      <th>What are the three animal statues scattered across Fortnite?</th>\n",
       "      <th>Winner ID 1</th>\n",
       "      <th>Winner ID 2</th>\n",
       "      <th>VOTER ID 2_y</th>\n",
       "    </tr>\n",
       "  </thead>\n",
       "  <tbody>\n",
       "    <tr>\n",
       "      <th>0</th>\n",
       "      <td>NaN</td>\n",
       "      <td>80947160.0</td>\n",
       "      <td>1.546302e+09</td>\n",
       "      <td>211931432</td>\n",
       "      <td>1546302066</td>\n",
       "      <td>NaN</td>\n",
       "      <td>22764212.0</td>\n",
       "      <td>1.546323e+09</td>\n",
       "      <td>1546322910</td>\n",
       "    </tr>\n",
       "    <tr>\n",
       "      <th>1</th>\n",
       "      <td>NaN</td>\n",
       "      <td>114162154.0</td>\n",
       "      <td>1.546302e+09</td>\n",
       "      <td>127377293</td>\n",
       "      <td>1546302107</td>\n",
       "      <td>NaN</td>\n",
       "      <td>132912052.0</td>\n",
       "      <td>1.546323e+09</td>\n",
       "      <td>1546322849</td>\n",
       "    </tr>\n",
       "    <tr>\n",
       "      <th>2</th>\n",
       "      <td>NaN</td>\n",
       "      <td>66110611.0</td>\n",
       "      <td>1.546302e+09</td>\n",
       "      <td>233003186</td>\n",
       "      <td>1546302072</td>\n",
       "      <td>NaN</td>\n",
       "      <td>26969444.0</td>\n",
       "      <td>1.546323e+09</td>\n",
       "      <td>1546322868</td>\n",
       "    </tr>\n",
       "    <tr>\n",
       "      <th>3</th>\n",
       "      <td>NaN</td>\n",
       "      <td>211533910.0</td>\n",
       "      <td>1.546302e+09</td>\n",
       "      <td>149019553</td>\n",
       "      <td>1546302144</td>\n",
       "      <td>NaN</td>\n",
       "      <td>216574450.0</td>\n",
       "      <td>1.546323e+09</td>\n",
       "      <td>1546322904</td>\n",
       "    </tr>\n",
       "    <tr>\n",
       "      <th>4</th>\n",
       "      <td>NaN</td>\n",
       "      <td>192955697.0</td>\n",
       "      <td>1.546302e+09</td>\n",
       "      <td>20645203</td>\n",
       "      <td>1546302083</td>\n",
       "      <td>NaN</td>\n",
       "      <td>90194183.0</td>\n",
       "      <td>1.546323e+09</td>\n",
       "      <td>1546322882</td>\n",
       "    </tr>\n",
       "  </tbody>\n",
       "</table>\n",
       "</div>"
      ],
      "text/plain": [
       "  What dance did Ninja do to celebrate his first Battle Royale win?  \\\n",
       "0                                                NaN                  \n",
       "1                                                NaN                  \n",
       "2                                                NaN                  \n",
       "3                                                NaN                  \n",
       "4                                                NaN                  \n",
       "\n",
       "   WINNER ID 1   WINNER ID 2  VOTER ID 1  VOTER ID 2_x  \\\n",
       "0   80947160.0  1.546302e+09   211931432    1546302066   \n",
       "1  114162154.0  1.546302e+09   127377293    1546302107   \n",
       "2   66110611.0  1.546302e+09   233003186    1546302072   \n",
       "3  211533910.0  1.546302e+09   149019553    1546302144   \n",
       "4  192955697.0  1.546302e+09    20645203    1546302083   \n",
       "\n",
       "  What are the three animal statues scattered across Fortnite?  Winner ID 1  \\\n",
       "0                                                NaN             22764212.0   \n",
       "1                                                NaN            132912052.0   \n",
       "2                                                NaN             26969444.0   \n",
       "3                                                NaN            216574450.0   \n",
       "4                                                NaN             90194183.0   \n",
       "\n",
       "    Winner ID 2  VOTER ID 2_y  \n",
       "0  1.546323e+09    1546322910  \n",
       "1  1.546323e+09    1546322849  \n",
       "2  1.546323e+09    1546322868  \n",
       "3  1.546323e+09    1546322904  \n",
       "4  1.546323e+09    1546322882  "
      ]
     },
     "execution_count": 60,
     "metadata": {},
     "output_type": "execute_result"
    }
   ],
   "source": [
    "# Combine the data into a single dataset\n",
    "trivia_question_merged_data_2 = pd.merge(question2_df,question3_df, on=\"VOTER ID 1\")\n",
    "\n",
    "# Display the data table for preview\n",
    "trivia_question_merged_data_2.head()"
   ]
  },
  {
   "cell_type": "code",
   "execution_count": 61,
   "metadata": {},
   "outputs": [
    {
     "name": "stdout",
     "output_type": "stream",
     "text": [
      "The number of voters that voted for question 2 and then voted for question 3 is 970\n"
     ]
    }
   ],
   "source": [
    "merged_vote_count_question_2_and_3 = trivia_question_merged_data_2[\"VOTER ID 1\"].count()\n",
    "\n",
    "print(f\"The number of voters that voted for question 2 and then voted for question 3 is {merged_vote_count_question_2_and_3}\")"
   ]
  },
  {
   "cell_type": "code",
   "execution_count": 62,
   "metadata": {},
   "outputs": [
    {
     "data": {
      "text/html": [
       "<div>\n",
       "<style scoped>\n",
       "    .dataframe tbody tr th:only-of-type {\n",
       "        vertical-align: middle;\n",
       "    }\n",
       "\n",
       "    .dataframe tbody tr th {\n",
       "        vertical-align: top;\n",
       "    }\n",
       "\n",
       "    .dataframe thead th {\n",
       "        text-align: right;\n",
       "    }\n",
       "</style>\n",
       "<table border=\"1\" class=\"dataframe\">\n",
       "  <thead>\n",
       "    <tr style=\"text-align: right;\">\n",
       "      <th></th>\n",
       "      <th>What are the three animal statues scattered across Fortnite?</th>\n",
       "      <th>Winner ID 1</th>\n",
       "      <th>Winner ID 2_x</th>\n",
       "      <th>VOTER ID 1</th>\n",
       "      <th>VOTER ID 2_x</th>\n",
       "      <th>On March 14 2018  Ninja set a record for all time single player stream viewership while playing Fortnite with whom?</th>\n",
       "      <th>Winner Id 1</th>\n",
       "      <th>Winner ID 2_y</th>\n",
       "      <th>VOTER ID 2_y</th>\n",
       "    </tr>\n",
       "  </thead>\n",
       "  <tbody>\n",
       "    <tr>\n",
       "      <th>0</th>\n",
       "      <td>2. Camel, Fox, Crab</td>\n",
       "      <td>222677677.0</td>\n",
       "      <td>1.546323e+09</td>\n",
       "      <td>166258169</td>\n",
       "      <td>1546322848</td>\n",
       "      <td>NaN</td>\n",
       "      <td>71374796.0</td>\n",
       "      <td>1.546330e+09</td>\n",
       "      <td>1546329904</td>\n",
       "    </tr>\n",
       "    <tr>\n",
       "      <th>1</th>\n",
       "      <td>NaN</td>\n",
       "      <td>186603992.0</td>\n",
       "      <td>1.546323e+09</td>\n",
       "      <td>48164469</td>\n",
       "      <td>1546322878</td>\n",
       "      <td>NaN</td>\n",
       "      <td>55166438.0</td>\n",
       "      <td>1.546330e+09</td>\n",
       "      <td>1546329908</td>\n",
       "    </tr>\n",
       "    <tr>\n",
       "      <th>2</th>\n",
       "      <td>NaN</td>\n",
       "      <td>255277339.0</td>\n",
       "      <td>1.546323e+09</td>\n",
       "      <td>38074702</td>\n",
       "      <td>1546322883</td>\n",
       "      <td>NaN</td>\n",
       "      <td>261805540.0</td>\n",
       "      <td>1.546330e+09</td>\n",
       "      <td>1546329913</td>\n",
       "    </tr>\n",
       "    <tr>\n",
       "      <th>3</th>\n",
       "      <td>NaN</td>\n",
       "      <td>227165581.0</td>\n",
       "      <td>1.546323e+09</td>\n",
       "      <td>118238105</td>\n",
       "      <td>1546322890</td>\n",
       "      <td>NaN</td>\n",
       "      <td>146861229.0</td>\n",
       "      <td>1.546330e+09</td>\n",
       "      <td>1546329909</td>\n",
       "    </tr>\n",
       "    <tr>\n",
       "      <th>4</th>\n",
       "      <td>NaN</td>\n",
       "      <td>40193792.0</td>\n",
       "      <td>1.546323e+09</td>\n",
       "      <td>155679874</td>\n",
       "      <td>1546322849</td>\n",
       "      <td>NaN</td>\n",
       "      <td>137293400.0</td>\n",
       "      <td>1.546330e+09</td>\n",
       "      <td>1546329987</td>\n",
       "    </tr>\n",
       "  </tbody>\n",
       "</table>\n",
       "</div>"
      ],
      "text/plain": [
       "  What are the three animal statues scattered across Fortnite?  Winner ID 1  \\\n",
       "0                                2. Camel, Fox, Crab            222677677.0   \n",
       "1                                                NaN            186603992.0   \n",
       "2                                                NaN            255277339.0   \n",
       "3                                                NaN            227165581.0   \n",
       "4                                                NaN             40193792.0   \n",
       "\n",
       "   Winner ID 2_x  VOTER ID 1  VOTER ID 2_x  \\\n",
       "0   1.546323e+09   166258169    1546322848   \n",
       "1   1.546323e+09    48164469    1546322878   \n",
       "2   1.546323e+09    38074702    1546322883   \n",
       "3   1.546323e+09   118238105    1546322890   \n",
       "4   1.546323e+09   155679874    1546322849   \n",
       "\n",
       "  On March 14 2018  Ninja set a record for all time single player stream viewership while playing Fortnite with whom?  \\\n",
       "0                                                NaN                                                                    \n",
       "1                                                NaN                                                                    \n",
       "2                                                NaN                                                                    \n",
       "3                                                NaN                                                                    \n",
       "4                                                NaN                                                                    \n",
       "\n",
       "   Winner Id 1  Winner ID 2_y  VOTER ID 2_y  \n",
       "0   71374796.0   1.546330e+09    1546329904  \n",
       "1   55166438.0   1.546330e+09    1546329908  \n",
       "2  261805540.0   1.546330e+09    1546329913  \n",
       "3  146861229.0   1.546330e+09    1546329909  \n",
       "4  137293400.0   1.546330e+09    1546329987  "
      ]
     },
     "execution_count": 62,
     "metadata": {},
     "output_type": "execute_result"
    }
   ],
   "source": [
    "# Combine the data into a single dataset\n",
    "trivia_question_merged_data_3 = pd.merge(question3_df,question4_df, on=\"VOTER ID 1\")\n",
    "\n",
    "# Display the data table for preview\n",
    "trivia_question_merged_data_3.head()"
   ]
  },
  {
   "cell_type": "code",
   "execution_count": 63,
   "metadata": {},
   "outputs": [
    {
     "name": "stdout",
     "output_type": "stream",
     "text": [
      "The number of voters that voted for question 3 and then voted for question 4 is 748\n"
     ]
    }
   ],
   "source": [
    "merged_vote_count_question_3_and_4 = trivia_question_merged_data_3[\"VOTER ID 1\"].count()\n",
    "\n",
    "print(f\"The number of voters that voted for question 3 and then voted for question 4 is {merged_vote_count_question_3_and_4}\")"
   ]
  },
  {
   "cell_type": "code",
   "execution_count": 64,
   "metadata": {},
   "outputs": [
    {
     "data": {
      "text/html": [
       "<div>\n",
       "<style scoped>\n",
       "    .dataframe tbody tr th:only-of-type {\n",
       "        vertical-align: middle;\n",
       "    }\n",
       "\n",
       "    .dataframe tbody tr th {\n",
       "        vertical-align: top;\n",
       "    }\n",
       "\n",
       "    .dataframe thead th {\n",
       "        text-align: right;\n",
       "    }\n",
       "</style>\n",
       "<table border=\"1\" class=\"dataframe\">\n",
       "  <thead>\n",
       "    <tr style=\"text-align: right;\">\n",
       "      <th></th>\n",
       "      <th>Number of people that participated in question 1 and then 2</th>\n",
       "      <th>Number of people that participated in question 2 and then 3</th>\n",
       "      <th>Number of people that participated in question 3 and then 4</th>\n",
       "    </tr>\n",
       "  </thead>\n",
       "  <tbody>\n",
       "    <tr>\n",
       "      <th>0</th>\n",
       "      <td>2917</td>\n",
       "      <td>970</td>\n",
       "      <td>748</td>\n",
       "    </tr>\n",
       "  </tbody>\n",
       "</table>\n",
       "</div>"
      ],
      "text/plain": [
       "   Number of people that participated in question 1 and then 2  \\\n",
       "0                                               2917             \n",
       "\n",
       "   Number of people that participated in question 2 and then 3  \\\n",
       "0                                                970             \n",
       "\n",
       "   Number of people that participated in question 3 and then 4  \n",
       "0                                                748            "
      ]
     },
     "execution_count": 64,
     "metadata": {},
     "output_type": "execute_result"
    }
   ],
   "source": [
    "voter_summary = pd.DataFrame ({\"Number of people that participated in question 1 and then 2\":[merged_vote_count_question_1_and_2],\n",
    "                               \"Number of people that participated in question 2 and then 3\": [merged_vote_count_question_2_and_3],\n",
    "                                \"Number of people that participated in question 3 and then 4\": [merged_vote_count_question_3_and_4]})\n",
    "voter_summary"
   ]
  },
  {
   "cell_type": "code",
   "execution_count": null,
   "metadata": {},
   "outputs": [],
   "source": []
  }
 ],
 "metadata": {
  "kernelspec": {
   "display_name": "Python 3",
   "language": "python",
   "name": "python3"
  },
  "language_info": {
   "codemirror_mode": {
    "name": "ipython",
    "version": 3
   },
   "file_extension": ".py",
   "mimetype": "text/x-python",
   "name": "python",
   "nbconvert_exporter": "python",
   "pygments_lexer": "ipython3",
   "version": "3.6.5"
  }
 },
 "nbformat": 4,
 "nbformat_minor": 2
}
