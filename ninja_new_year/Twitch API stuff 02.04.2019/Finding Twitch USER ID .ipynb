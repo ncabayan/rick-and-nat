{
 "cells": [
  {
   "cell_type": "code",
   "execution_count": 1,
   "metadata": {},
   "outputs": [],
   "source": [
    "#ninja user ID is 19571641\n",
    "\n",
    "##pulling ninja user_id\n",
    "import urllib\n",
    "import json\n",
    "import requests\n",
    "\n",
    "import pandas as pd                # allows use of data frame structure\n",
    "import numpy as np\n",
    "import datetime                    # allows me to get current timestamp\n",
    "import time                        # allows me to make the program wait\n",
    " \n",
    "from twitch import TwitchClient    # Twitch API library"
   ]
  },
  {
   "cell_type": "code",
   "execution_count": 2,
   "metadata": {},
   "outputs": [],
   "source": [
    "# Specify username.\n",
    "#user_name = \"Ninja\"\n",
    "user_name = \"RedBull\"\n",
    "# Specify URL.\n",
    "url = \"https://api.twitch.tv/helix/users?login=\" + user_name\n"
   ]
  },
  {
   "cell_type": "code",
   "execution_count": 3,
   "metadata": {},
   "outputs": [],
   "source": [
    "# Specify username.\n",
    "#user_name = \"Ninja\"\n",
    "user_name = \"RedBull\"\n",
    "\n",
    "# Specify URL.\n",
    "url = \"https://api.twitch.tv/helix/users?login=\" + user_name\n",
    "\n",
    "# Create URL request.\n",
    "channel_id = urllib.request.Request(url)\n",
    "\n",
    "# Add client ID and OAuth to request.\n",
    "#channel_id.add_header(\"Client-ID\", 's4tqt4ku0piu2e0yayw6k08l7851qo')\n",
    "#channel_id.add_header(\"Authorization\", \"OAuth \" + \"kheftmy6d7dbzecqkmu7e7b2fc92za\")\n",
    "channel_id.add_header(\"Client-ID\", 'o9juu7zmdkn6thhqjmzbptqf7k6q07')\n",
    "channel_id.add_header(\"Authorization\", \"OAuth \" + \"643avxxenh6i37ihfv1g4ii54lp6um\")\n",
    "\n",
    "# Get info from request.\n",
    "response = urllib.request.urlopen(channel_id)\n",
    "json_output = json.loads(response.read())\n",
    "\n",
    "# Get user ID.\n",
    "user_id = json_output['data'][0]['id']\n",
    "\n"
   ]
  },
  {
   "cell_type": "code",
   "execution_count": 4,
   "metadata": {},
   "outputs": [
    {
     "name": "stdout",
     "output_type": "stream",
     "text": [
      "141173718\n"
     ]
    }
   ],
   "source": [
    "print(user_id)"
   ]
  },
  {
   "cell_type": "code",
   "execution_count": 5,
   "metadata": {},
   "outputs": [
    {
     "name": "stdout",
     "output_type": "stream",
     "text": [
      "{'data': [{'id': '141173718', 'login': 'redbull', 'display_name': 'RedBull', 'type': '', 'broadcaster_type': '', 'description': 'Red Bull on Twitch brings you events from the world of Red Bull, including music, sports, and more. Plus keep your eyes open for content marathons fired up by Red Bull TV, and stay tuned for whatever we can think up. Want esports? Twitch.tv/RedBullEsports', 'profile_image_url': 'https://static-cdn.jtvnw.net/jtv_user_pictures/redbull-profile_image-59e329d8b2c0b595-300x300.jpeg', 'offline_image_url': 'https://static-cdn.jtvnw.net/jtv_user_pictures/c9f87827-c8a3-40b0-8a40-eb1ff9c4a5ff-channel_offline_image-1920x1080.jpg', 'view_count': 11850896}]}\n"
     ]
    }
   ],
   "source": [
    "print(json_output)"
   ]
  },
  {
   "cell_type": "code",
   "execution_count": 6,
   "metadata": {},
   "outputs": [
    {
     "name": "stdout",
     "output_type": "stream",
     "text": [
      "{\n",
      "    \"data\": [\n",
      "        {\n",
      "            \"broadcaster_type\": \"\",\n",
      "            \"description\": \"Red Bull on Twitch brings you events from the world of Red Bull, including music, sports, and more. Plus keep your eyes open for content marathons fired up by Red Bull TV, and stay tuned for whatever we can think up. Want esports? Twitch.tv/RedBullEsports\",\n",
      "            \"display_name\": \"RedBull\",\n",
      "            \"id\": \"141173718\",\n",
      "            \"login\": \"redbull\",\n",
      "            \"offline_image_url\": \"https://static-cdn.jtvnw.net/jtv_user_pictures/c9f87827-c8a3-40b0-8a40-eb1ff9c4a5ff-channel_offline_image-1920x1080.jpg\",\n",
      "            \"profile_image_url\": \"https://static-cdn.jtvnw.net/jtv_user_pictures/redbull-profile_image-59e329d8b2c0b595-300x300.jpeg\",\n",
      "            \"type\": \"\",\n",
      "            \"view_count\": 11850896\n",
      "        }\n",
      "    ]\n",
      "}\n"
     ]
    }
   ],
   "source": [
    "print(json.dumps(json_output, indent=4, sort_keys=True))"
   ]
  },
  {
   "cell_type": "code",
   "execution_count": null,
   "metadata": {},
   "outputs": [],
   "source": []
  }
 ],
 "metadata": {
  "kernelspec": {
   "display_name": "Python 3",
   "language": "python",
   "name": "python3"
  },
  "language_info": {
   "codemirror_mode": {
    "name": "ipython",
    "version": 3
   },
   "file_extension": ".py",
   "mimetype": "text/x-python",
   "name": "python",
   "nbconvert_exporter": "python",
   "pygments_lexer": "ipython3",
   "version": "3.6.5"
  }
 },
 "nbformat": 4,
 "nbformat_minor": 2
}
